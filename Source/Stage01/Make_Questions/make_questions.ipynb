{
    "cells": [
     {
      "cell_type": "markdown",
      "id": "23f36888",
      "metadata": {},
      "source": [
       "# Question 1: Cause of the highest number of deaths in Vietnam from 2000 to 2021"
      ]
     },
     {
      "cell_type": "markdown",
      "id": "3e66a573",
      "metadata": {},
      "source": [
       "# Question 2: Which country has the highest total number of deaths in 2021?"
      ]
     },
     {
      "cell_type": "markdown",
      "id": "d18d7b34",
      "metadata": {},
      "source": [
       "# Question 3: Which country has the highest total number of deaths due to HIV/AIDS in the last 10 years ?"
      ]
     },
     {
      "cell_type": "markdown",
      "id": "5bd9c229",
      "metadata": {},
      "source": [
       "# Question 4: Which cause of death always accounts for the highest proportion of deaths globally over  years?"
      ]
     },
     {
      "cell_type": "markdown",
      "id": "5df6193e",
      "metadata": {},
      "source": [
       "# Question 5:"
      ]
     },
     {
      "cell_type": "code",
      "execution_count": null,
      "id": "be2c98e0",
      "metadata": {},
      "outputs": [],
      "source": []
     }
    ],
    "metadata": {
     "kernelspec": {
      "display_name": "Python 3 (ipykernel)",
      "language": "python",
      "name": "python3"
     },
     "language_info": {
      "codemirror_mode": {
       "name": "ipython",
       "version": 3
      },
      "file_extension": ".py",
      "mimetype": "text/x-python",
      "name": "python",
      "nbconvert_exporter": "python",
      "pygments_lexer": "ipython3",
      "version": "3.11.5"
     }
    },
    "nbformat": 4,
    "nbformat_minor": 5
   }
   