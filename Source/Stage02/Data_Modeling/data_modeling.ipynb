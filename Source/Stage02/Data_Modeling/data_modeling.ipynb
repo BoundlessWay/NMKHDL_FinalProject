{
  "cells": [
    {
      "cell_type": "markdown",
      "metadata": {
        "id": "MrTqX2qi21Qy"
      },
      "source": [
        "Libraries:"
      ]
    },
    {
      "cell_type": "code",
      "execution_count": 32,
      "metadata": {
        "id": "ZAtu6VSKOaIX"
      },
      "outputs": [],
      "source": [
        "# Thêm các thư viện\n",
        "import numpy as np\n",
        "import pandas as pd\n",
        "import seaborn as sns\n",
        "import matplotlib.pyplot as plt\n",
        "from sklearn import preprocessing, svm\n",
        "from sklearn.preprocessing import LabelEncoder\n",
        "from sklearn.model_selection import train_test_split, cross_val_score\n",
        "from sklearn.linear_model import LinearRegression\n",
        "from sklearn.metrics import accuracy_score, precision_score, recall_score, mean_squared_error"
      ]
    },
    {
      "cell_type": "code",
      "execution_count": 33,
      "metadata": {
        "colab": {
          "base_uri": "https://localhost:8080/",
          "height": 510
        },
        "id": "lplrgQ9kgutL",
        "outputId": "4d4bd4ae-0024-481d-b430-f7bf09b9152d"
      },
      "outputs": [
        {
          "data": {
            "text/html": [
              "<div>\n",
              "<style scoped>\n",
              "    .dataframe tbody tr th:only-of-type {\n",
              "        vertical-align: middle;\n",
              "    }\n",
              "\n",
              "    .dataframe tbody tr th {\n",
              "        vertical-align: top;\n",
              "    }\n",
              "\n",
              "    .dataframe thead th {\n",
              "        text-align: right;\n",
              "    }\n",
              "</style>\n",
              "<table border=\"1\" class=\"dataframe\">\n",
              "  <thead>\n",
              "    <tr style=\"text-align: right;\">\n",
              "      <th></th>\n",
              "      <th>Prematurity</th>\n",
              "      <th>Birth asphyxia and birth trauma</th>\n",
              "      <th>Sepsis and other infectious conditions of the newborn</th>\n",
              "      <th>Congenital anomalies</th>\n",
              "      <th>Injuries</th>\n",
              "      <th>Tuberculosis</th>\n",
              "      <th>Other Group 1 and Other noncommunicable (neonatal and under-5 only)</th>\n",
              "      <th>HIV/AIDS</th>\n",
              "      <th>Diarrhoeal diseases</th>\n",
              "      <th>Tetanus</th>\n",
              "      <th>Measles</th>\n",
              "      <th>Meningitis/encephalitis</th>\n",
              "      <th>Malaria</th>\n",
              "      <th>Acute lower respiratory infections</th>\n",
              "      <th>CountryName</th>\n",
              "      <th>Year</th>\n",
              "    </tr>\n",
              "  </thead>\n",
              "  <tbody>\n",
              "    <tr>\n",
              "      <th>0</th>\n",
              "      <td>19333.41926</td>\n",
              "      <td>11691.37210</td>\n",
              "      <td>4489.50404</td>\n",
              "      <td>1534.08344</td>\n",
              "      <td>371.28902</td>\n",
              "      <td>0.0</td>\n",
              "      <td>10579.92644</td>\n",
              "      <td>0.22891</td>\n",
              "      <td>1973.08786</td>\n",
              "      <td>2331.69796</td>\n",
              "      <td>0.0</td>\n",
              "      <td>1395.33839</td>\n",
              "      <td>0.0</td>\n",
              "      <td>6908.05259</td>\n",
              "      <td>Afghanistan</td>\n",
              "      <td>2000</td>\n",
              "    </tr>\n",
              "    <tr>\n",
              "      <th>1</th>\n",
              "      <td>14761.72219</td>\n",
              "      <td>10042.87869</td>\n",
              "      <td>2977.92908</td>\n",
              "      <td>1405.50824</td>\n",
              "      <td>130.32201</td>\n",
              "      <td>0.0</td>\n",
              "      <td>3849.14708</td>\n",
              "      <td>30.31433</td>\n",
              "      <td>724.01316</td>\n",
              "      <td>768.57928</td>\n",
              "      <td>0.0</td>\n",
              "      <td>357.27433</td>\n",
              "      <td>0.0</td>\n",
              "      <td>4267.31161</td>\n",
              "      <td>Angola</td>\n",
              "      <td>2000</td>\n",
              "    </tr>\n",
              "    <tr>\n",
              "      <th>2</th>\n",
              "      <td>351.16760</td>\n",
              "      <td>110.05251</td>\n",
              "      <td>17.54192</td>\n",
              "      <td>106.22332</td>\n",
              "      <td>4.31283</td>\n",
              "      <td>0.0</td>\n",
              "      <td>30.48989</td>\n",
              "      <td>0.00347</td>\n",
              "      <td>0.77210</td>\n",
              "      <td>0.09764</td>\n",
              "      <td>0.0</td>\n",
              "      <td>10.36631</td>\n",
              "      <td>0.0</td>\n",
              "      <td>36.97242</td>\n",
              "      <td>Albania</td>\n",
              "      <td>2000</td>\n",
              "    </tr>\n",
              "    <tr>\n",
              "      <th>3</th>\n",
              "      <td>3.00000</td>\n",
              "      <td>0.00000</td>\n",
              "      <td>0.00000</td>\n",
              "      <td>0.00000</td>\n",
              "      <td>0.00000</td>\n",
              "      <td>0.0</td>\n",
              "      <td>0.00000</td>\n",
              "      <td>0.00000</td>\n",
              "      <td>0.00000</td>\n",
              "      <td>0.00000</td>\n",
              "      <td>0.0</td>\n",
              "      <td>0.00000</td>\n",
              "      <td>0.0</td>\n",
              "      <td>0.00000</td>\n",
              "      <td>Andorra</td>\n",
              "      <td>2000</td>\n",
              "    </tr>\n",
              "    <tr>\n",
              "      <th>4</th>\n",
              "      <td>137.90854</td>\n",
              "      <td>26.85080</td>\n",
              "      <td>2.86905</td>\n",
              "      <td>75.66284</td>\n",
              "      <td>1.78464</td>\n",
              "      <td>0.0</td>\n",
              "      <td>66.57905</td>\n",
              "      <td>0.10435</td>\n",
              "      <td>0.00000</td>\n",
              "      <td>0.00000</td>\n",
              "      <td>0.0</td>\n",
              "      <td>0.15043</td>\n",
              "      <td>0.0</td>\n",
              "      <td>0.09029</td>\n",
              "      <td>United Arab Emirates</td>\n",
              "      <td>2000</td>\n",
              "    </tr>\n",
              "    <tr>\n",
              "      <th>...</th>\n",
              "      <td>...</td>\n",
              "      <td>...</td>\n",
              "      <td>...</td>\n",
              "      <td>...</td>\n",
              "      <td>...</td>\n",
              "      <td>...</td>\n",
              "      <td>...</td>\n",
              "      <td>...</td>\n",
              "      <td>...</td>\n",
              "      <td>...</td>\n",
              "      <td>...</td>\n",
              "      <td>...</td>\n",
              "      <td>...</td>\n",
              "      <td>...</td>\n",
              "      <td>...</td>\n",
              "      <td>...</td>\n",
              "    </tr>\n",
              "    <tr>\n",
              "      <th>4263</th>\n",
              "      <td>17.45855</td>\n",
              "      <td>5.56010</td>\n",
              "      <td>2.93639</td>\n",
              "      <td>7.28102</td>\n",
              "      <td>0.25978</td>\n",
              "      <td>0.0</td>\n",
              "      <td>4.18806</td>\n",
              "      <td>0.00000</td>\n",
              "      <td>0.00000</td>\n",
              "      <td>0.00000</td>\n",
              "      <td>0.0</td>\n",
              "      <td>0.15554</td>\n",
              "      <td>0.0</td>\n",
              "      <td>1.16055</td>\n",
              "      <td>Samoa</td>\n",
              "      <td>2021</td>\n",
              "    </tr>\n",
              "    <tr>\n",
              "      <th>4264</th>\n",
              "      <td>11286.37393</td>\n",
              "      <td>6796.63328</td>\n",
              "      <td>1742.58956</td>\n",
              "      <td>2227.89226</td>\n",
              "      <td>229.08594</td>\n",
              "      <td>0.0</td>\n",
              "      <td>3051.97336</td>\n",
              "      <td>0.90444</td>\n",
              "      <td>521.35998</td>\n",
              "      <td>129.94279</td>\n",
              "      <td>0.0</td>\n",
              "      <td>44.07145</td>\n",
              "      <td>0.0</td>\n",
              "      <td>2523.17301</td>\n",
              "      <td>Yemen</td>\n",
              "      <td>2021</td>\n",
              "    </tr>\n",
              "    <tr>\n",
              "      <th>4265</th>\n",
              "      <td>4634.07215</td>\n",
              "      <td>2595.54661</td>\n",
              "      <td>1828.98610</td>\n",
              "      <td>1315.87236</td>\n",
              "      <td>166.21530</td>\n",
              "      <td>0.0</td>\n",
              "      <td>1708.85383</td>\n",
              "      <td>36.14888</td>\n",
              "      <td>0.00000</td>\n",
              "      <td>0.00000</td>\n",
              "      <td>0.0</td>\n",
              "      <td>16.01934</td>\n",
              "      <td>0.0</td>\n",
              "      <td>677.28544</td>\n",
              "      <td>South Africa</td>\n",
              "      <td>2021</td>\n",
              "    </tr>\n",
              "    <tr>\n",
              "      <th>4266</th>\n",
              "      <td>6920.62510</td>\n",
              "      <td>4054.12780</td>\n",
              "      <td>912.70245</td>\n",
              "      <td>1274.53105</td>\n",
              "      <td>35.09944</td>\n",
              "      <td>0.0</td>\n",
              "      <td>1776.66284</td>\n",
              "      <td>22.93804</td>\n",
              "      <td>134.08604</td>\n",
              "      <td>23.52546</td>\n",
              "      <td>0.0</td>\n",
              "      <td>108.91078</td>\n",
              "      <td>0.0</td>\n",
              "      <td>1228.79101</td>\n",
              "      <td>Zambia</td>\n",
              "      <td>2021</td>\n",
              "    </tr>\n",
              "    <tr>\n",
              "      <th>4267</th>\n",
              "      <td>5268.77405</td>\n",
              "      <td>2940.32032</td>\n",
              "      <td>657.14015</td>\n",
              "      <td>953.81393</td>\n",
              "      <td>44.91293</td>\n",
              "      <td>0.0</td>\n",
              "      <td>1314.32117</td>\n",
              "      <td>25.53906</td>\n",
              "      <td>87.16720</td>\n",
              "      <td>15.59287</td>\n",
              "      <td>0.0</td>\n",
              "      <td>37.95557</td>\n",
              "      <td>0.0</td>\n",
              "      <td>865.46276</td>\n",
              "      <td>Zimbabwe</td>\n",
              "      <td>2021</td>\n",
              "    </tr>\n",
              "  </tbody>\n",
              "</table>\n",
              "<p>4268 rows × 16 columns</p>\n",
              "</div>"
            ],
            "text/plain": [
              "      Prematurity  Birth asphyxia and birth trauma   \n",
              "0     19333.41926                      11691.37210  \\\n",
              "1     14761.72219                      10042.87869   \n",
              "2       351.16760                        110.05251   \n",
              "3         3.00000                          0.00000   \n",
              "4       137.90854                         26.85080   \n",
              "...           ...                              ...   \n",
              "4263     17.45855                          5.56010   \n",
              "4264  11286.37393                       6796.63328   \n",
              "4265   4634.07215                       2595.54661   \n",
              "4266   6920.62510                       4054.12780   \n",
              "4267   5268.77405                       2940.32032   \n",
              "\n",
              "      Sepsis and other infectious conditions of the newborn   \n",
              "0                                            4489.50404      \\\n",
              "1                                            2977.92908       \n",
              "2                                              17.54192       \n",
              "3                                               0.00000       \n",
              "4                                               2.86905       \n",
              "...                                                 ...       \n",
              "4263                                            2.93639       \n",
              "4264                                         1742.58956       \n",
              "4265                                         1828.98610       \n",
              "4266                                          912.70245       \n",
              "4267                                          657.14015       \n",
              "\n",
              "      Congenital anomalies   Injuries  Tuberculosis   \n",
              "0               1534.08344  371.28902           0.0  \\\n",
              "1               1405.50824  130.32201           0.0   \n",
              "2                106.22332    4.31283           0.0   \n",
              "3                  0.00000    0.00000           0.0   \n",
              "4                 75.66284    1.78464           0.0   \n",
              "...                    ...        ...           ...   \n",
              "4263               7.28102    0.25978           0.0   \n",
              "4264            2227.89226  229.08594           0.0   \n",
              "4265            1315.87236  166.21530           0.0   \n",
              "4266            1274.53105   35.09944           0.0   \n",
              "4267             953.81393   44.91293           0.0   \n",
              "\n",
              "      Other Group 1 and Other noncommunicable (neonatal and under-5 only)   \n",
              "0                                           10579.92644                    \\\n",
              "1                                            3849.14708                     \n",
              "2                                              30.48989                     \n",
              "3                                               0.00000                     \n",
              "4                                              66.57905                     \n",
              "...                                                 ...                     \n",
              "4263                                            4.18806                     \n",
              "4264                                         3051.97336                     \n",
              "4265                                         1708.85383                     \n",
              "4266                                         1776.66284                     \n",
              "4267                                         1314.32117                     \n",
              "\n",
              "      HIV/AIDS  Diarrhoeal diseases     Tetanus  Measles   \n",
              "0      0.22891           1973.08786  2331.69796      0.0  \\\n",
              "1     30.31433            724.01316   768.57928      0.0   \n",
              "2      0.00347              0.77210     0.09764      0.0   \n",
              "3      0.00000              0.00000     0.00000      0.0   \n",
              "4      0.10435              0.00000     0.00000      0.0   \n",
              "...        ...                  ...         ...      ...   \n",
              "4263   0.00000              0.00000     0.00000      0.0   \n",
              "4264   0.90444            521.35998   129.94279      0.0   \n",
              "4265  36.14888              0.00000     0.00000      0.0   \n",
              "4266  22.93804            134.08604    23.52546      0.0   \n",
              "4267  25.53906             87.16720    15.59287      0.0   \n",
              "\n",
              "      Meningitis/encephalitis  Malaria  Acute lower respiratory infections   \n",
              "0                  1395.33839      0.0                          6908.05259  \\\n",
              "1                   357.27433      0.0                          4267.31161   \n",
              "2                    10.36631      0.0                            36.97242   \n",
              "3                     0.00000      0.0                             0.00000   \n",
              "4                     0.15043      0.0                             0.09029   \n",
              "...                       ...      ...                                 ...   \n",
              "4263                  0.15554      0.0                             1.16055   \n",
              "4264                 44.07145      0.0                          2523.17301   \n",
              "4265                 16.01934      0.0                           677.28544   \n",
              "4266                108.91078      0.0                          1228.79101   \n",
              "4267                 37.95557      0.0                           865.46276   \n",
              "\n",
              "               CountryName  Year  \n",
              "0              Afghanistan  2000  \n",
              "1                   Angola  2000  \n",
              "2                  Albania  2000  \n",
              "3                  Andorra  2000  \n",
              "4     United Arab Emirates  2000  \n",
              "...                    ...   ...  \n",
              "4263                 Samoa  2021  \n",
              "4264                 Yemen  2021  \n",
              "4265          South Africa  2021  \n",
              "4266                Zambia  2021  \n",
              "4267              Zimbabwe  2021  \n",
              "\n",
              "[4268 rows x 16 columns]"
            ]
          },
          "execution_count": 33,
          "metadata": {},
          "output_type": "execute_result"
        }
      ],
      "source": [
        "# Lấy dữ liệu từ Data\n",
        "url = \"../../../Data/number_of_deaths_processed_data.csv\"\n",
        "\n",
        "# Đọc file \n",
        "deaths = pd.read_csv(url)\n",
        "deaths"
      ]
    },
    {
      "cell_type": "markdown",
      "metadata": {},
      "source": [
        "***DỰ ĐOÁN TỔNG SỐ CA TỬ VONG TOÀN CẦU***"
      ]
    },
    {
      "cell_type": "markdown",
      "metadata": {
        "id": "JyhegpGzSLLu"
      },
      "source": [
        "Chia ra label và feature\n",
        "- Label: Injuries - số ca tử vong do chấn thương\n",
        "- Features: các nguyên do khác\n",
        "\n",
        "Lý do chia ra label và feature:\n",
        "\n",
        "- Huấn luyện mô hình: Mô hình máy học cần học cách dự đoán một biến dự báo (label) dựa trên thông tin từ các biến khác (features). Bằng cách chia nhỏ dữ liệu thành label và features, mô hình có thể học cách liên kết giữa các features và label để tạo ra các dự đoán chính xác.\n",
        "\n",
        "- Phân loại công việc: Bằng cách xác định label và features, xác định được nhiệm vụ của mô hình. Label là điều mà mô hình cố gắng dự đoán, trong khi features là thông tin mà mô hình sử dụng để thực hiện dự đoán.\n",
        "\n",
        "- Tiền xử lý dữ liệu: Chia ra label và features giúp áp dụng các kỹ thuật tiền xử lý dữ liệu riêng biệt cho từng loại. \n",
        "\n",
        "- Đánh giá hiệu suất: Khi mô hình đã được huấn luyện, việc chia ra label và features cũng giúp đánh giá hiệu suất của mô hình bằng cách so sánh giữa label thực tế và label dự đoán được từ features."
      ]
    },
    {
      "cell_type": "code",
      "execution_count": 34,
      "metadata": {
        "id": "joG3fsfdSkVv"
      },
      "outputs": [],
      "source": [
        "# X là DataFrame chứa các features sau khi loại bỏ cột Injuries\n",
        "X = deaths.drop(columns = 'Injuries')\n",
        "\n",
        "# Y chứa label Injuries\n",
        "Y = deaths['Injuries']\n",
        "\n",
        "# Cột CountryName thường không thể dùng trực tiếp trong mô hình máy học do giá trị chuỗi \n",
        "# nên được mã hóa sang dạng số sử dụng LabelEncoder từ thư viện sklearn\n",
        "LE = LabelEncoder()\n",
        "X['CountryName'] = LE.fit_transform(X['CountryName'])"
      ]
    },
    {
      "cell_type": "markdown",
      "metadata": {
        "id": "cLWkrkgQUoH-"
      },
      "source": [
        "Tạo train, test set:"
      ]
    },
    {
      "cell_type": "code",
      "execution_count": 35,
      "metadata": {
        "id": "io681ilzUuUh"
      },
      "outputs": [],
      "source": [
        "X_train, X_test, Y_train, Y_test = train_test_split(X, Y, test_size = .3, random_state = 42)"
      ]
    },
    {
      "cell_type": "markdown",
      "metadata": {
        "id": "PnROE44rVXYr"
      },
      "source": [
        "Khởi tạo model"
      ]
    },
    {
      "cell_type": "code",
      "execution_count": 36,
      "metadata": {
        "colab": {
          "base_uri": "https://localhost:8080/",
          "height": 75
        },
        "id": "9zY_LP-MVf_c",
        "outputId": "fd3a34f3-0824-4a6b-9652-31474dc51e1c"
      },
      "outputs": [
        {
          "data": {
            "text/html": [
              "<style>#sk-container-id-3 {color: black;background-color: white;}#sk-container-id-3 pre{padding: 0;}#sk-container-id-3 div.sk-toggleable {background-color: white;}#sk-container-id-3 label.sk-toggleable__label {cursor: pointer;display: block;width: 100%;margin-bottom: 0;padding: 0.3em;box-sizing: border-box;text-align: center;}#sk-container-id-3 label.sk-toggleable__label-arrow:before {content: \"▸\";float: left;margin-right: 0.25em;color: #696969;}#sk-container-id-3 label.sk-toggleable__label-arrow:hover:before {color: black;}#sk-container-id-3 div.sk-estimator:hover label.sk-toggleable__label-arrow:before {color: black;}#sk-container-id-3 div.sk-toggleable__content {max-height: 0;max-width: 0;overflow: hidden;text-align: left;background-color: #f0f8ff;}#sk-container-id-3 div.sk-toggleable__content pre {margin: 0.2em;color: black;border-radius: 0.25em;background-color: #f0f8ff;}#sk-container-id-3 input.sk-toggleable__control:checked~div.sk-toggleable__content {max-height: 200px;max-width: 100%;overflow: auto;}#sk-container-id-3 input.sk-toggleable__control:checked~label.sk-toggleable__label-arrow:before {content: \"▾\";}#sk-container-id-3 div.sk-estimator input.sk-toggleable__control:checked~label.sk-toggleable__label {background-color: #d4ebff;}#sk-container-id-3 div.sk-label input.sk-toggleable__control:checked~label.sk-toggleable__label {background-color: #d4ebff;}#sk-container-id-3 input.sk-hidden--visually {border: 0;clip: rect(1px 1px 1px 1px);clip: rect(1px, 1px, 1px, 1px);height: 1px;margin: -1px;overflow: hidden;padding: 0;position: absolute;width: 1px;}#sk-container-id-3 div.sk-estimator {font-family: monospace;background-color: #f0f8ff;border: 1px dotted black;border-radius: 0.25em;box-sizing: border-box;margin-bottom: 0.5em;}#sk-container-id-3 div.sk-estimator:hover {background-color: #d4ebff;}#sk-container-id-3 div.sk-parallel-item::after {content: \"\";width: 100%;border-bottom: 1px solid gray;flex-grow: 1;}#sk-container-id-3 div.sk-label:hover label.sk-toggleable__label {background-color: #d4ebff;}#sk-container-id-3 div.sk-serial::before {content: \"\";position: absolute;border-left: 1px solid gray;box-sizing: border-box;top: 0;bottom: 0;left: 50%;z-index: 0;}#sk-container-id-3 div.sk-serial {display: flex;flex-direction: column;align-items: center;background-color: white;padding-right: 0.2em;padding-left: 0.2em;position: relative;}#sk-container-id-3 div.sk-item {position: relative;z-index: 1;}#sk-container-id-3 div.sk-parallel {display: flex;align-items: stretch;justify-content: center;background-color: white;position: relative;}#sk-container-id-3 div.sk-item::before, #sk-container-id-3 div.sk-parallel-item::before {content: \"\";position: absolute;border-left: 1px solid gray;box-sizing: border-box;top: 0;bottom: 0;left: 50%;z-index: -1;}#sk-container-id-3 div.sk-parallel-item {display: flex;flex-direction: column;z-index: 1;position: relative;background-color: white;}#sk-container-id-3 div.sk-parallel-item:first-child::after {align-self: flex-end;width: 50%;}#sk-container-id-3 div.sk-parallel-item:last-child::after {align-self: flex-start;width: 50%;}#sk-container-id-3 div.sk-parallel-item:only-child::after {width: 0;}#sk-container-id-3 div.sk-dashed-wrapped {border: 1px dashed gray;margin: 0 0.4em 0.5em 0.4em;box-sizing: border-box;padding-bottom: 0.4em;background-color: white;}#sk-container-id-3 div.sk-label label {font-family: monospace;font-weight: bold;display: inline-block;line-height: 1.2em;}#sk-container-id-3 div.sk-label-container {text-align: center;}#sk-container-id-3 div.sk-container {/* jupyter's `normalize.less` sets `[hidden] { display: none; }` but bootstrap.min.css set `[hidden] { display: none !important; }` so we also need the `!important` here to be able to override the default hidden behavior on the sphinx rendered scikit-learn.org. See: https://github.com/scikit-learn/scikit-learn/issues/21755 */display: inline-block !important;position: relative;}#sk-container-id-3 div.sk-text-repr-fallback {display: none;}</style><div id=\"sk-container-id-3\" class=\"sk-top-container\"><div class=\"sk-text-repr-fallback\"><pre>LinearRegression()</pre><b>In a Jupyter environment, please rerun this cell to show the HTML representation or trust the notebook. <br />On GitHub, the HTML representation is unable to render, please try loading this page with nbviewer.org.</b></div><div class=\"sk-container\" hidden><div class=\"sk-item\"><div class=\"sk-estimator sk-toggleable\"><input class=\"sk-toggleable__control sk-hidden--visually\" id=\"sk-estimator-id-3\" type=\"checkbox\" checked><label for=\"sk-estimator-id-3\" class=\"sk-toggleable__label sk-toggleable__label-arrow\">LinearRegression</label><div class=\"sk-toggleable__content\"><pre>LinearRegression()</pre></div></div></div></div></div>"
            ],
            "text/plain": [
              "LinearRegression()"
            ]
          },
          "execution_count": 36,
          "metadata": {},
          "output_type": "execute_result"
        }
      ],
      "source": [
        "# Xác định mô hình hồi quy tuyến tính \n",
        "LR = LinearRegression()\n",
        "\n",
        "# Huấn luyện mô hình với dữ liệu huấn luyện đã chia\n",
        "LR.fit(X_train, Y_train)"
      ]
    },
    {
      "cell_type": "markdown",
      "metadata": {
        "id": "ovk-nIvkWEer"
      },
      "source": [
        "Dự đoán khi dùng model"
      ]
    },
    {
      "cell_type": "code",
      "execution_count": 37,
      "metadata": {
        "id": "Oe-slLMNWJYZ"
      },
      "outputs": [],
      "source": [
        "# Dự đoán số ca tử vong toàn cầu\n",
        "total_deaths_pred = LR.predict(X_test)"
      ]
    },
    {
      "cell_type": "code",
      "execution_count": 38,
      "metadata": {
        "colab": {
          "base_uri": "https://localhost:8080/",
          "height": 449
        },
        "id": "3Y4OQC61b446",
        "outputId": "60c39e8a-3ac6-4877-d6d1-fc896dcb085d"
      },
      "outputs": [
        {
          "data": {
            "image/png": "[encoded data removed]",
            "text/plain": [
              "<Figure size 640x480 with 1 Axes>"
            ]
          },
          "metadata": {},
          "output_type": "display_data"
        }
      ],
      "source": [
        "# Biểu đồ của số ca tử vong toàn cầu\n",
        "plt.scatter(Y_test, total_deaths_pred)\n",
        "plt.xlabel(\"Giá trị thực tế\")\n",
        "plt.ylabel(\"Giá trị dự đoán\")\n",
        "plt.grid(True)\n",
        "plt.show()"
      ]
    },
    {
      "cell_type": "markdown",
      "metadata": {},
      "source": [
        "Đánh giá:"
      ]
    },
    {
      "cell_type": "code",
      "execution_count": 39,
      "metadata": {},
      "outputs": [
        {
          "data": {
            "text/plain": [
              "61785.42950305886"
            ]
          },
          "execution_count": 39,
          "metadata": {},
          "output_type": "execute_result"
        }
      ],
      "source": [
        "# @title\n",
        "MSE = mean_squared_error(Y_test, total_deaths_pred)\n",
        "MSE\n"
      ]
    },
    {
      "cell_type": "markdown",
      "metadata": {},
      "source": [
        "***DỰ ĐOÁN SỐ CA TỬ VONG DO SINH NON***"
      ]
    },
    {
      "cell_type": "code",
      "execution_count": 40,
      "metadata": {},
      "outputs": [],
      "source": [
        "cleaned_df = pd.read_csv(\"../../../Data/number_of_deaths_processed_data.csv\")\n",
        "df_copy = cleaned_df.copy()\n",
        "df_copy = df_copy.drop(['CountryName'], axis='columns')"
      ]
    },
    {
      "cell_type": "code",
      "execution_count": 41,
      "metadata": {},
      "outputs": [],
      "source": [
        "# Tính ma trận tương quan\n",
        "correlation_matrix = df_copy.corr()"
      ]
    },
    {
      "cell_type": "markdown",
      "metadata": {},
      "source": [
        "Định nghĩa tỷ lệ số năm"
      ]
    },
    {
      "cell_type": "code",
      "execution_count": 63,
      "metadata": {},
      "outputs": [
        {
          "name": "stdout",
          "output_type": "stream",
          "text": [
            "2522\n",
            "776\n"
          ]
        }
      ],
      "source": [
        "# Tạo danh sách các năm từ 2000 đến 2021\n",
        "years = list(range(2000, 2022))\n",
        "\n",
        "# Tính số lượng dòng tương ứng với từng phần\n",
        "train_years = 13\n",
        "val_years = 4\n",
        "test_years = 5\n",
        "\n",
        "# Tính số dòng tương ứng cho mỗi phần\n",
        "total_years = train_years + val_years + test_years\n",
        "train_data_years = int(len(df_copy) * (train_years / total_years))\n",
        "val_data_years = int(len(df_copy) * (val_years / total_years))\n",
        "\n",
        "print(train_data_years)\n",
        "print(val_data_years)"
      ]
    },
    {
      "cell_type": "code",
      "execution_count": 94,
      "metadata": {},
      "outputs": [],
      "source": [
        "# Chia dữ liệu thành training, validation, test theo tỉ lệ\n",
        "train_data = df_copy[df_copy['Year'].isin(range(2000, 2014))]\n",
        "val_data = df_copy[df_copy['Year'].isin(range(2014, 2018))]\n",
        "test_data = df_copy[df_copy['Year'].isin(range(2018, 2022))]"
      ]
    },
    {
      "cell_type": "markdown",
      "metadata": {},
      "source": [
        "Xây dựng mô hình"
      ]
    },
    {
      "cell_type": "markdown",
      "metadata": {},
      "source": [
        "Đầu tiên dùng cặp dữ liệu X_train và y_train để huấn luyện mô hình\n",
        "\n",
        "Lý do chọn Prematurity vì dựa trên việc mất do sinh non có thể có tác động lớn đối với sức khỏe của một quốc gia."
      ]
    },
    {
      "cell_type": "code",
      "execution_count": 70,
      "metadata": {},
      "outputs": [],
      "source": [
        "# Chia mỗi tập thành features và label\n",
        "X_train = train_data.drop(columns=['Prematurity']) \n",
        "y_train = train_data['Prematurity']\n",
        "\n",
        "X_val = val_data.drop(columns=['Prematurity'])\n",
        "y_val = val_data['Prematurity']\n",
        "\n",
        "X_test = test_data.drop(columns=['Prematurity'])\n",
        "y_test = test_data['Prematurity']"
      ]
    },
    {
      "cell_type": "markdown",
      "metadata": {},
      "source": [
        "Chia ra label và feature\n",
        "- Label: Injuries - số ca tử vong do sinh non\n",
        "- Features: các nguyên do khác\n",
        "\n",
        "Lý do chia ra label và feature:\n",
        "\n",
        "- Huấn luyện mô hình: Mô hình máy học cần học cách dự đoán một biến dự báo (label) dựa trên thông tin từ các biến khác (features). Bằng cách chia nhỏ dữ liệu thành label và features, mô hình có thể học cách liên kết giữa các features và label để tạo ra các dự đoán chính xác.\n",
        "\n",
        "- Phân loại công việc: Bằng cách xác định label và features, xác định được nhiệm vụ của mô hình. Label là điều mà mô hình cố gắng dự đoán, trong khi features là thông tin mà mô hình sử dụng để thực hiện dự đoán.\n",
        "\n",
        "- Tiền xử lý dữ liệu: Chia ra label và features giúp áp dụng các kỹ thuật tiền xử lý dữ liệu riêng biệt cho từng loại. \n",
        "\n",
        "- Đánh giá hiệu suất: Khi mô hình đã được huấn luyện, việc chia ra label và features cũng giúp đánh giá hiệu suất của mô hình bằng cách so sánh giữa label thực tế và label dự đoán được từ features."
      ]
    },
    {
      "cell_type": "code",
      "execution_count": 92,
      "metadata": {},
      "outputs": [
        {
          "data": {
            "text/html": [
              "<style>#sk-container-id-4 {color: black;background-color: white;}#sk-container-id-4 pre{padding: 0;}#sk-container-id-4 div.sk-toggleable {background-color: white;}#sk-container-id-4 label.sk-toggleable__label {cursor: pointer;display: block;width: 100%;margin-bottom: 0;padding: 0.3em;box-sizing: border-box;text-align: center;}#sk-container-id-4 label.sk-toggleable__label-arrow:before {content: \"▸\";float: left;margin-right: 0.25em;color: #696969;}#sk-container-id-4 label.sk-toggleable__label-arrow:hover:before {color: black;}#sk-container-id-4 div.sk-estimator:hover label.sk-toggleable__label-arrow:before {color: black;}#sk-container-id-4 div.sk-toggleable__content {max-height: 0;max-width: 0;overflow: hidden;text-align: left;background-color: #f0f8ff;}#sk-container-id-4 div.sk-toggleable__content pre {margin: 0.2em;color: black;border-radius: 0.25em;background-color: #f0f8ff;}#sk-container-id-4 input.sk-toggleable__control:checked~div.sk-toggleable__content {max-height: 200px;max-width: 100%;overflow: auto;}#sk-container-id-4 input.sk-toggleable__control:checked~label.sk-toggleable__label-arrow:before {content: \"▾\";}#sk-container-id-4 div.sk-estimator input.sk-toggleable__control:checked~label.sk-toggleable__label {background-color: #d4ebff;}#sk-container-id-4 div.sk-label input.sk-toggleable__control:checked~label.sk-toggleable__label {background-color: #d4ebff;}#sk-container-id-4 input.sk-hidden--visually {border: 0;clip: rect(1px 1px 1px 1px);clip: rect(1px, 1px, 1px, 1px);height: 1px;margin: -1px;overflow: hidden;padding: 0;position: absolute;width: 1px;}#sk-container-id-4 div.sk-estimator {font-family: monospace;background-color: #f0f8ff;border: 1px dotted black;border-radius: 0.25em;box-sizing: border-box;margin-bottom: 0.5em;}#sk-container-id-4 div.sk-estimator:hover {background-color: #d4ebff;}#sk-container-id-4 div.sk-parallel-item::after {content: \"\";width: 100%;border-bottom: 1px solid gray;flex-grow: 1;}#sk-container-id-4 div.sk-label:hover label.sk-toggleable__label {background-color: #d4ebff;}#sk-container-id-4 div.sk-serial::before {content: \"\";position: absolute;border-left: 1px solid gray;box-sizing: border-box;top: 0;bottom: 0;left: 50%;z-index: 0;}#sk-container-id-4 div.sk-serial {display: flex;flex-direction: column;align-items: center;background-color: white;padding-right: 0.2em;padding-left: 0.2em;position: relative;}#sk-container-id-4 div.sk-item {position: relative;z-index: 1;}#sk-container-id-4 div.sk-parallel {display: flex;align-items: stretch;justify-content: center;background-color: white;position: relative;}#sk-container-id-4 div.sk-item::before, #sk-container-id-4 div.sk-parallel-item::before {content: \"\";position: absolute;border-left: 1px solid gray;box-sizing: border-box;top: 0;bottom: 0;left: 50%;z-index: -1;}#sk-container-id-4 div.sk-parallel-item {display: flex;flex-direction: column;z-index: 1;position: relative;background-color: white;}#sk-container-id-4 div.sk-parallel-item:first-child::after {align-self: flex-end;width: 50%;}#sk-container-id-4 div.sk-parallel-item:last-child::after {align-self: flex-start;width: 50%;}#sk-container-id-4 div.sk-parallel-item:only-child::after {width: 0;}#sk-container-id-4 div.sk-dashed-wrapped {border: 1px dashed gray;margin: 0 0.4em 0.5em 0.4em;box-sizing: border-box;padding-bottom: 0.4em;background-color: white;}#sk-container-id-4 div.sk-label label {font-family: monospace;font-weight: bold;display: inline-block;line-height: 1.2em;}#sk-container-id-4 div.sk-label-container {text-align: center;}#sk-container-id-4 div.sk-container {/* jupyter's `normalize.less` sets `[hidden] { display: none; }` but bootstrap.min.css set `[hidden] { display: none !important; }` so we also need the `!important` here to be able to override the default hidden behavior on the sphinx rendered scikit-learn.org. See: https://github.com/scikit-learn/scikit-learn/issues/21755 */display: inline-block !important;position: relative;}#sk-container-id-4 div.sk-text-repr-fallback {display: none;}</style><div id=\"sk-container-id-4\" class=\"sk-top-container\"><div class=\"sk-text-repr-fallback\"><pre>LinearRegression()</pre><b>In a Jupyter environment, please rerun this cell to show the HTML representation or trust the notebook. <br />On GitHub, the HTML representation is unable to render, please try loading this page with nbviewer.org.</b></div><div class=\"sk-container\" hidden><div class=\"sk-item\"><div class=\"sk-estimator sk-toggleable\"><input class=\"sk-toggleable__control sk-hidden--visually\" id=\"sk-estimator-id-4\" type=\"checkbox\" checked><label for=\"sk-estimator-id-4\" class=\"sk-toggleable__label sk-toggleable__label-arrow\">LinearRegression</label><div class=\"sk-toggleable__content\"><pre>LinearRegression()</pre></div></div></div></div></div>"
            ],
            "text/plain": [
              "LinearRegression()"
            ]
          },
          "execution_count": 92,
          "metadata": {},
          "output_type": "execute_result"
        }
      ],
      "source": [
        "# Huấn luyện mô hình Linear Regression\n",
        "model = LinearRegression()\n",
        "model.fit(X_train, y_train)"
      ]
    },
    {
      "cell_type": "code",
      "execution_count": 95,
      "metadata": {},
      "outputs": [],
      "source": [
        "# Dự đoán trên tập validation và test\n",
        "predicted_val = model.predict(X_val)\n",
        "predicted_test = model.predict(X_test)"
      ]
    },
    {
      "cell_type": "markdown",
      "metadata": {},
      "source": [
        "Thước đo 'neg_mean_squared_error' (độ lỗi bình phương trung bình âm) được sử dụng để đo lường hiệu suất của mô hình. Khi sử dụng thước đo này, kết quả trả về sẽ là các giá trị MSE âm. Lý do là để phù hợp với cấu trúc của hàm cross_val_score trong thư viện Scikit-learn. Bởi vì phần lớn các hàm trong Scikit-learn đánh giá hiệu suất dựa trên độ chính xác hoặc độ lỗi"
      ]
    },
    {
      "cell_type": "code",
      "execution_count": 72,
      "metadata": {},
      "outputs": [
        {
          "data": {
            "text/plain": [
              "array([-2876254.58397805, -1843318.21643644, -1587391.46165029,\n",
              "       -1887730.41828787, -1541522.70828086])"
            ]
          },
          "execution_count": 72,
          "metadata": {},
          "output_type": "execute_result"
        }
      ],
      "source": [
        "# Sử dụng cross-validation để xác thực siêu tham số\n",
        "cv_scores = cross_val_score(model, X_train, y_train, cv=5, scoring='neg_mean_squared_error')\n",
        "cv_scores"
      ]
    },
    {
      "cell_type": "markdown",
      "metadata": {},
      "source": [
        "Khi sử dụng scoring='neg_mean_squared_error', điểm số được trả về sẽ là giá trị âm của MSE, có nghĩa là mô hình càng tốt nếu giá trị này càng cao. Sau khi hoàn thiện cross-validation, ta có thể đổi dấu của kết quả để lấy giá trị MSE dương thực sự. Điều này giúp cho việc so sánh và đánh giá hiệu suất dễ dàng hơn, với giá trị MSE càng nhỏ thể hiện mô hình càng tốt."
      ]
    },
    {
      "cell_type": "code",
      "execution_count": 96,
      "metadata": {},
      "outputs": [],
      "source": [
        "# Đánh giá hiệu suất mô hình\n",
        "mse_scores = -cv_scores\n",
        "mean_mse = mse_scores.mean() \n",
        "root_mean_mse = np.sqrt(mean_mse)"
      ]
    },
    {
      "cell_type": "markdown",
      "metadata": {},
      "source": [
        "Giá trị Độ lỗi bình phương trung bình cao\n",
        "\n",
        "Giá trị Căn bậc hai độ lỗi bình phương trung bình nhỏ\n",
        "\n",
        "Vậy nên hiệu suất mô hình là tốt"
      ]
    },
    {
      "cell_type": "code",
      "execution_count": 97,
      "metadata": {},
      "outputs": [
        {
          "name": "stdout",
          "output_type": "stream",
          "text": [
            "Độ lỗi bình phương trung bình: 1947243.4777267028\n",
            "Căn bậc hai độ lỗi bình phương trung bình : 1395.436662026157\n"
          ]
        }
      ],
      "source": [
        "# Báo cáo quy trình tinh chỉnh mô hình\n",
        "print(f\"Độ lỗi bình phương trung bình: {mean_mse}\")\n",
        "print(f\"Căn bậc hai độ lỗi bình phương trung bình : {root_mean_mse}\")"
      ]
    },
    {
      "cell_type": "markdown",
      "metadata": {},
      "source": [
        "Đánh giá hiệu suất trên tập validation, kết quả tốt"
      ]
    },
    {
      "cell_type": "code",
      "execution_count": 101,
      "metadata": {},
      "outputs": [
        {
          "data": {
            "text/plain": [
              "0.9958823511674643"
            ]
          },
          "execution_count": 101,
          "metadata": {},
          "output_type": "execute_result"
        }
      ],
      "source": [
        "r_squared_val = model.score(X_val, y_val) \n",
        "r_squared_val"
      ]
    },
    {
      "cell_type": "markdown",
      "metadata": {},
      "source": [
        "Đánh giá hiệu suất trên tập test, kết quả tốt"
      ]
    },
    {
      "cell_type": "code",
      "execution_count": 102,
      "metadata": {},
      "outputs": [
        {
          "data": {
            "text/plain": [
              "0.9938629617776761"
            ]
          },
          "execution_count": 102,
          "metadata": {},
          "output_type": "execute_result"
        }
      ],
      "source": [
        "r_squared_test = model.score(X_test, y_test)\n",
        "r_squared_test"
      ]
    },
    {
      "cell_type": "code",
      "execution_count": 103,
      "metadata": {},
      "outputs": [
        {
          "name": "stdout",
          "output_type": "stream",
          "text": [
            "Tổng ca tử vong do sinh non:\n",
            "3545881.62004786\n"
          ]
        }
      ],
      "source": [
        "# In tổng số ca tử vong dự đoán\n",
        "total_predicted_values = 0\n",
        "total_predicted_values += sum(predicted_test)\n",
        "print(\"Tổng ca tử vong do sinh non:\")\n",
        "print(total_predicted_values)"
      ]
    },
    {
      "cell_type": "markdown",
      "metadata": {},
      "source": [
        "Vẽ biểu đồ"
      ]
    },
    {
      "cell_type": "code",
      "execution_count": 107,
      "metadata": {},
      "outputs": [
        {
          "data": {
            "image/png": "[encoded data removed]",
            "text/plain": [
              "<Figure size 800x600 with 1 Axes>"
            ]
          },
          "metadata": {},
          "output_type": "display_data"
        }
      ],
      "source": [
        "# Vẽ biểu đồ\n",
        "plt.figure(figsize=(8, 6))\n",
        "plt.scatter(y_test, predicted_test, alpha=0.5)\n",
        "plt.xlabel(\"Giá trị thực tế\")\n",
        "plt.ylabel(\"Giá trị dự đoán\")\n",
        "plt.title(\"Biểu đồ giá trị thực tế và dự đoán của việc tử vong do sinh non\")\n",
        "plt.grid(True)\n",
        "plt.show()"
      ]
    }
  ],
  "metadata": {
    "colab": {
      "provenance": []
    },
    "kernelspec": {
      "display_name": "Python 3",
      "name": "python3"
    },
    "language_info": {
      "codemirror_mode": {
        "name": "ipython",
        "version": 3
      },
      "file_extension": ".py",
      "mimetype": "text/x-python",
      "name": "python",
      "nbconvert_exporter": "python",
      "pygments_lexer": "ipython3",
      "version": "3.11.4"
    }
  },
  "nbformat": 4,
  "nbformat_minor": 0
}
