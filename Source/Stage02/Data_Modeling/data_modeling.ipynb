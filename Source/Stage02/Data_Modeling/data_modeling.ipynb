{
  "cells": [
    {
      "cell_type": "markdown",
      "metadata": {
        "id": "MrTqX2qi21Qy"
      },
      "source": [
        "Import các thư viện sử dụng trong quá trình huấn luyện mô hình dữ liệu:"
      ]
    },
    {
      "cell_type": "code",
      "execution_count": 2,
      "metadata": {
        "id": "ZAtu6VSKOaIX"
      },
      "outputs": [],
      "source": [
        "# Thêm các thư viện\n",
        "import numpy as np\n",
        "import pandas as pd\n",
        "import seaborn as sns\n",
        "import matplotlib.pyplot as plt\n",
        "from sklearn import preprocessing, svm\n",
        "\n",
        "# Sử dụng để chuyển hóa dữ liệu Categorical, cài đặt Scaler\n",
        "from sklearn.preprocessing import LabelEncoder, StandardScaler\n",
        "\n",
        "# Tạo pipeline\n",
        "from sklearn.pipeline import Pipeline\n",
        "\n",
        "# Phân chia tập dữ liệu train, test, val\n",
        "from sklearn.model_selection import train_test_split, cross_val_score, GridSearchCV\n",
        "\n",
        "# Mô hình Linear Regression (hồi quy tuyến tính)\n",
        "from sklearn.linear_model import LinearRegression\n",
        "\n",
        "# Các hệ thống điểm đo lường hiệu suất mô hình\n",
        "from sklearn.metrics import accuracy_score, precision_score, recall_score, mean_squared_error, r2_score"
      ]
    },
    {
      "cell_type": "markdown",
      "metadata": {},
      "source": [
        "***DỰ ĐOÁN SỐ CA TỬ VONG DO SINH NON***"
      ]
    },
    {
      "cell_type": "markdown",
      "metadata": {},
      "source": [
        "Chúng ta muốn dự đoán một giá trị liên tục là số lượng ca tử vong do sinh non dự kiến các năm.\n",
        "\n",
        "Chúng ta sẽ sử dụng thuật toán học máy hồi quy để xây dựng một mô hình có khả năng dự đoán số lượng ca tử vong do sinh non dựa trên các đặc trưng được cung cấp.\n",
        "\n",
        "Mục tiêu là tìm một mô hình có thể ước lượng chính xác số ca tử vong dự kiến dựa trên thông tin đã biết, giúp trong việc đưa ra các biện pháp phòng ngừa và cải thiện chăm sóc sức khỏe thai phụ."
      ]
    },
    {
      "cell_type": "code",
      "execution_count": 9,
      "metadata": {},
      "outputs": [],
      "source": [
        "cleaned_df = pd.read_csv(\"../../../Data/number_of_deaths_processed_data.csv\")\n",
        "df_copy = cleaned_df.copy()\n",
        "df_copy = df_copy.drop(['CountryName'], axis='columns')"
      ]
    },
    {
      "cell_type": "markdown",
      "metadata": {},
      "source": [
        "Định nghĩa tỷ lệ số năm"
      ]
    },
    {
      "cell_type": "markdown",
      "metadata": {},
      "source": [
        "Việc chọn tỉ lệ này có thể dựa trên một số tiêu chí:\n",
        "\n",
        "Training set lớn: Chọn năm 2000-2013 làm tập huấn luyện, vì muốn mô hình học từ nhiều dữ liệu hơn để học các mẫu, quy luật phức tạp hơn.\n",
        "\n",
        "Validation set có sự đa dạng: Chọn 2011-2017 cho tập validation để đảm bảo nó bao gồm dữ liệu đa dạng hơn, không trùng với tập huấn luyện nhưng vẫn nằm trong ngữ cảnh thời gian gần.\n",
        "\n",
        "Test set mới nhất: Dữ liệu từ 2017-2022 được chọn làm tập kiểm tra để kiểm tra hiệu suất của mô hình trên dữ liệu mới, không được sử dụng trong quá trình huấn luyện hoặc điều chỉnh siêu tham số."
      ]
    },
    {
      "cell_type": "code",
      "execution_count": 10,
      "metadata": {},
      "outputs": [],
      "source": [
        "# Tạo danh sách các năm từ 2000 đến 2021\n",
        "years = list(range(2000, 2022))\n",
        "\n",
        "# Tính số lượng dòng tương ứng với từng phần\n",
        "train_years = 13\n",
        "val_years = 4\n",
        "test_years = 5\n",
        "\n",
        "# Tính số dòng tương ứng cho mỗi phần\n",
        "total_years = train_years + val_years + test_years\n",
        "train_data_years = int(len(df_copy) * (train_years / total_years))\n",
        "val_data_years = int(len(df_copy) * (val_years / total_years))"
      ]
    },
    {
      "cell_type": "code",
      "execution_count": 11,
      "metadata": {},
      "outputs": [],
      "source": [
        "# Chia dữ liệu thành training, validation, test theo tỉ lệ\n",
        "train_data = df_copy[df_copy['Year'].isin(range(2000, 2013))]\n",
        "val_data = df_copy[df_copy['Year'].isin(range(2013, 2017))]\n",
        "test_data = df_copy[df_copy['Year'].isin(range(2017, 2022))]"
      ]
    },
    {
      "cell_type": "markdown",
      "metadata": {},
      "source": [
        "Xây dựng mô hình"
      ]
    },
    {
      "cell_type": "markdown",
      "metadata": {},
      "source": [
        "Chia ra label và feature\n",
        "- Label: Prematurity - số ca tử vong do sinh non\n",
        "- Features: các nguyên do khác"
      ]
    },
    {
      "cell_type": "markdown",
      "metadata": {},
      "source": [
        "Lý do chọn Prematurity làm label là vì:\n",
        "\n",
        "Sự sinh non thường là một trong những nguyên nhân chính dẫn đến tử vong ở trẻ sơ sinh. Việc dự đoán số ca tử vong dựa trên yếu tố này có thể hữu ích để hiểu rõ hơn về tác động của sự sớm non đối với tỷ lệ tử vong.\n",
        "\n",
        "Dữ liệu về sự sinh non có sẵn và có tính khả thi trong việc thu thập so với các yếu tố khác. Điều này giúp mô hình học máy được huấn luyện và kiểm tra dựa trên thông tin rõ ràng và đủ đầy."
      ]
    },
    {
      "cell_type": "code",
      "execution_count": 12,
      "metadata": {},
      "outputs": [],
      "source": [
        "# Chia mỗi tập thành features và label\n",
        "X_train = train_data.drop(columns=['Prematurity']) \n",
        "y_train = train_data['Prematurity']\n",
        "\n",
        "X_val = val_data.drop(columns=['Prematurity'])\n",
        "y_val = val_data['Prematurity']\n",
        "\n",
        "X_test = test_data.drop(columns=['Prematurity'])\n",
        "y_test = test_data['Prematurity']"
      ]
    },
    {
      "cell_type": "markdown",
      "metadata": {},
      "source": [
        "Mô hình Linear Regression là một thuật toán học máy dùng để dự đoán giá trị đầu ra dựa trên các đặc trưng đầu vào. \n",
        "\n",
        "Tham số:\n",
        "\n",
        "- Intercept (chặn trục): Đây là giá trị dự đoán của biến mục tiêu khi tất cả các đặc trưng đều bằng 0.\n",
        "\n",
        "- Coefficients (hệ số): Là các trọng số được gán cho mỗi đặc trưng, biểu thị mức độ ảnh hưởng của từng đặc trưng đối với giá trị dự đoán.\n",
        "\n",
        "Cách hoạt động:\n",
        "\n",
        "- Giả định: Linear Regression giả định mối quan hệ tuyến tính giữa các đặc trưng và biến mục tiêu. Nó cố gắng tìm một đường thẳng (hoặc siêu phẳng trong không gian nhiều chiều) mà nói rằng mối quan hệ giữa đầu vào và đầu ra là tuyến tính.\n",
        "\n",
        "- Tối ưu hóa: Mục tiêu của thuật toán là tìm ra đường thẳng sao cho tổng bình phương sai số giữa dự đoán và giá trị thực tế là nhỏ nhất (phương pháp bình phương tối thiểu).\n",
        "\n",
        "Áp dụng của mô hình: Linear Regression thường được sử dụng khi mối quan hệ giữa các biến đầu vào và biến mục tiêu có thể được mô tả một cách tuyến tính. Nó thích hợp trong các bài toán dự đoán số lượng hoặc bài toán dự đoán giá trị liên tục.\n",
        "\n",
        "Áp dụng vào bài: Việc sử dụng Linear Regression để dự đoán tỉ lệ tử vong do sinh non là hợp lý"
      ]
    },
    {
      "cell_type": "code",
      "execution_count": 13,
      "metadata": {},
      "outputs": [
        {
          "data": {
            "text/html": [
              "<style>#sk-container-id-2 {color: black;background-color: white;}#sk-container-id-2 pre{padding: 0;}#sk-container-id-2 div.sk-toggleable {background-color: white;}#sk-container-id-2 label.sk-toggleable__label {cursor: pointer;display: block;width: 100%;margin-bottom: 0;padding: 0.3em;box-sizing: border-box;text-align: center;}#sk-container-id-2 label.sk-toggleable__label-arrow:before {content: \"▸\";float: left;margin-right: 0.25em;color: #696969;}#sk-container-id-2 label.sk-toggleable__label-arrow:hover:before {color: black;}#sk-container-id-2 div.sk-estimator:hover label.sk-toggleable__label-arrow:before {color: black;}#sk-container-id-2 div.sk-toggleable__content {max-height: 0;max-width: 0;overflow: hidden;text-align: left;background-color: #f0f8ff;}#sk-container-id-2 div.sk-toggleable__content pre {margin: 0.2em;color: black;border-radius: 0.25em;background-color: #f0f8ff;}#sk-container-id-2 input.sk-toggleable__control:checked~div.sk-toggleable__content {max-height: 200px;max-width: 100%;overflow: auto;}#sk-container-id-2 input.sk-toggleable__control:checked~label.sk-toggleable__label-arrow:before {content: \"▾\";}#sk-container-id-2 div.sk-estimator input.sk-toggleable__control:checked~label.sk-toggleable__label {background-color: #d4ebff;}#sk-container-id-2 div.sk-label input.sk-toggleable__control:checked~label.sk-toggleable__label {background-color: #d4ebff;}#sk-container-id-2 input.sk-hidden--visually {border: 0;clip: rect(1px 1px 1px 1px);clip: rect(1px, 1px, 1px, 1px);height: 1px;margin: -1px;overflow: hidden;padding: 0;position: absolute;width: 1px;}#sk-container-id-2 div.sk-estimator {font-family: monospace;background-color: #f0f8ff;border: 1px dotted black;border-radius: 0.25em;box-sizing: border-box;margin-bottom: 0.5em;}#sk-container-id-2 div.sk-estimator:hover {background-color: #d4ebff;}#sk-container-id-2 div.sk-parallel-item::after {content: \"\";width: 100%;border-bottom: 1px solid gray;flex-grow: 1;}#sk-container-id-2 div.sk-label:hover label.sk-toggleable__label {background-color: #d4ebff;}#sk-container-id-2 div.sk-serial::before {content: \"\";position: absolute;border-left: 1px solid gray;box-sizing: border-box;top: 0;bottom: 0;left: 50%;z-index: 0;}#sk-container-id-2 div.sk-serial {display: flex;flex-direction: column;align-items: center;background-color: white;padding-right: 0.2em;padding-left: 0.2em;position: relative;}#sk-container-id-2 div.sk-item {position: relative;z-index: 1;}#sk-container-id-2 div.sk-parallel {display: flex;align-items: stretch;justify-content: center;background-color: white;position: relative;}#sk-container-id-2 div.sk-item::before, #sk-container-id-2 div.sk-parallel-item::before {content: \"\";position: absolute;border-left: 1px solid gray;box-sizing: border-box;top: 0;bottom: 0;left: 50%;z-index: -1;}#sk-container-id-2 div.sk-parallel-item {display: flex;flex-direction: column;z-index: 1;position: relative;background-color: white;}#sk-container-id-2 div.sk-parallel-item:first-child::after {align-self: flex-end;width: 50%;}#sk-container-id-2 div.sk-parallel-item:last-child::after {align-self: flex-start;width: 50%;}#sk-container-id-2 div.sk-parallel-item:only-child::after {width: 0;}#sk-container-id-2 div.sk-dashed-wrapped {border: 1px dashed gray;margin: 0 0.4em 0.5em 0.4em;box-sizing: border-box;padding-bottom: 0.4em;background-color: white;}#sk-container-id-2 div.sk-label label {font-family: monospace;font-weight: bold;display: inline-block;line-height: 1.2em;}#sk-container-id-2 div.sk-label-container {text-align: center;}#sk-container-id-2 div.sk-container {/* jupyter's `normalize.less` sets `[hidden] { display: none; }` but bootstrap.min.css set `[hidden] { display: none !important; }` so we also need the `!important` here to be able to override the default hidden behavior on the sphinx rendered scikit-learn.org. See: https://github.com/scikit-learn/scikit-learn/issues/21755 */display: inline-block !important;position: relative;}#sk-container-id-2 div.sk-text-repr-fallback {display: none;}</style><div id=\"sk-container-id-2\" class=\"sk-top-container\"><div class=\"sk-text-repr-fallback\"><pre>LinearRegression()</pre><b>In a Jupyter environment, please rerun this cell to show the HTML representation or trust the notebook. <br />On GitHub, the HTML representation is unable to render, please try loading this page with nbviewer.org.</b></div><div class=\"sk-container\" hidden><div class=\"sk-item\"><div class=\"sk-estimator sk-toggleable\"><input class=\"sk-toggleable__control sk-hidden--visually\" id=\"sk-estimator-id-2\" type=\"checkbox\" checked><label for=\"sk-estimator-id-2\" class=\"sk-toggleable__label sk-toggleable__label-arrow\">LinearRegression</label><div class=\"sk-toggleable__content\"><pre>LinearRegression()</pre></div></div></div></div></div>"
            ],
            "text/plain": [
              "LinearRegression()"
            ]
          },
          "execution_count": 13,
          "metadata": {},
          "output_type": "execute_result"
        }
      ],
      "source": [
        "# Huấn luyện mô hình Linear Regression\n",
        "model = LinearRegression()\n",
        "model.fit(X_train, y_train)"
      ]
    },
    {
      "cell_type": "markdown",
      "metadata": {},
      "source": [
        "Kiểm tra mô hình trên tập train và validation\n",
        "\n",
        "Valid set được sử dụng để đánh giá hiệu suất của mô hình mà không dùng tới train set, một vài lý do nữa là:\n",
        "\n",
        "- Đánh giá tổng quát hóa: Tập validation giúp đánh giá khả năng tổng quát hóa của mô hình. Mô hình có thể học quá nhiều chi tiết từ dữ liệu huấn luyện, dẫn đến overfitting. Việc sử dụng valid set giúp đánh giá khả năng dự đoán của mô hình trên dữ liệu mới, không được dùng trong quá trình huấn luyện.\n",
        "\n",
        "- Điều chỉnh mô hình: Valid set cũng thường được sử dụng để điều chỉnh các siêu tham số của mô hình hoặc chọn mô hình tốt nhất từ một loạt các mô hình khác nhau. Bằng cách đánh giá hiệu suất trên valid set, bạn có thể lựa chọn mô hình tốt nhất trước khi áp dụng nó vào tập test.\n",
        "\n",
        "- Tránh data leakage: Việc sử dụng tập test ngay từ đầu để điều chỉnh mô hình có thể dẫn đến hiện tượng data leakage, khi thông tin từ tập test \"rò rỉ\" vào quá trình huấn luyện, làm mô hình không tổng quát hóa tốt cho dữ liệu mới."
      ]
    },
    {
      "cell_type": "code",
      "execution_count": 14,
      "metadata": {},
      "outputs": [
        {
          "name": "stdout",
          "output_type": "stream",
          "text": [
            "Tổng số ca tử vong dự đoán từ mô hình trên tập huấn luyện:\n",
            "4508972.747846904\n",
            "Tổng số ca tử vong dự đoán từ mô hình trên tập validation:\n",
            "6343886.571567219\n"
          ]
        }
      ],
      "source": [
        "# Dự đoán trên tập train\n",
        "r_squared_train = model.score(X_test, y_test)\n",
        "predicted_train = model.predict(X_test)\n",
        "\n",
        "total_predicted_values_train = sum(predicted_train)\n",
        "print(\"Tổng số ca tử vong dự đoán từ mô hình trên tập huấn luyện:\")\n",
        "print(total_predicted_values_train)\n",
        "\n",
        "# Đánh giá hiệu suất mô hình trên tập validation\n",
        "r_squared_val = model.score(X_val, y_val)\n",
        "predicted_val = model.predict(X_val)\n",
        "\n",
        "# In tổng số ca tử vong dự đoán từ mô hình trên tập validation\n",
        "total_predicted_values_val = sum(predicted_val)\n",
        "print(\"Tổng số ca tử vong dự đoán từ mô hình trên tập validation:\")\n",
        "print(total_predicted_values_val)"
      ]
    },
    {
      "cell_type": "markdown",
      "metadata": {},
      "source": [
        "Thường thì khi kết quả trên tập huấn luyện (training set) tốt hơn so với tập validation nhưng kết quả trên ta thì ngược lại, nguyên nhân có thể xuất phát từ việc mô hình đã học \"quá mức\" từ dữ liệu huấn luyện, bao gồm cả nhiễu. Nó không chỉ học các mẫu dữ liệu mà còn học cả nhiễu có thể là ngẫu nhiên hoặc không có ý nghĩa thực tế trong dữ liệu huấn luyện."
      ]
    },
    {
      "cell_type": "markdown",
      "metadata": {},
      "source": [
        "Mô hình Linear Regression không có các siêu tham số cần điều chỉnh như một số mô hình phức tạp khác nên có thể dùng cross-validation để xác thực siêu tham số"
      ]
    },
    {
      "cell_type": "code",
      "execution_count": 15,
      "metadata": {},
      "outputs": [
        {
          "data": {
            "text/plain": [
              "array([-2891587.00407053, -1801194.85419438, -1578787.85210022,\n",
              "       -1931575.91449427, -1450615.09975145])"
            ]
          },
          "execution_count": 15,
          "metadata": {},
          "output_type": "execute_result"
        }
      ],
      "source": [
        "# Sử dụng cross-validation để xác thực siêu tham số\n",
        "cv_scores = cross_val_score(model, X_train, y_train, cv=5, scoring='neg_mean_squared_error')\n",
        "cv_scores"
      ]
    },
    {
      "cell_type": "markdown",
      "metadata": {},
      "source": [
        "Thước đo 'neg_mean_squared_error' (độ lỗi bình phương trung bình âm) được sử dụng để đo lường hiệu suất của mô hình. Khi sử dụng thước đo này, kết quả trả về sẽ là các giá trị MSE âm. Lý do là để phù hợp với cấu trúc của hàm cross_val_score trong thư viện Scikit-learn. Bởi vì phần lớn các hàm trong Scikit-learn đánh giá hiệu suất dựa trên độ chính xác hoặc độ lỗi"
      ]
    },
    {
      "cell_type": "markdown",
      "metadata": {},
      "source": [
        "Khi sử dụng scoring='neg_mean_squared_error', điểm số được trả về sẽ là giá trị âm của MSE, có nghĩa là mô hình càng tốt nếu giá trị này càng cao. Sau khi hoàn thiện cross-validation, ta có thể đổi dấu của kết quả để lấy giá trị MSE dương thực sự. Điều này giúp cho việc so sánh và đánh giá hiệu suất dễ dàng hơn, với giá trị MSE càng nhỏ thể hiện mô hình càng tốt."
      ]
    },
    {
      "cell_type": "code",
      "execution_count": 16,
      "metadata": {},
      "outputs": [],
      "source": [
        "# Đánh giá hiệu suất mô hình\n",
        "mse_scores = -cv_scores\n",
        "mean_mse = mse_scores.mean()\n",
        "root_mean_mse = np.sqrt(mean_mse)"
      ]
    },
    {
      "cell_type": "code",
      "execution_count": 17,
      "metadata": {},
      "outputs": [
        {
          "name": "stdout",
          "output_type": "stream",
          "text": [
            "Độ lỗi bình phương trung bình: 1930752.1449221696\n",
            "Căn bậc hai độ lỗi bình phương trung bình : 1389.515075456963\n"
          ]
        }
      ],
      "source": [
        "# Báo cáo quy trình tinh chỉnh mô hình\n",
        "print(f\"Độ lỗi bình phương trung bình: {mean_mse}\")\n",
        "print(f\"Căn bậc hai độ lỗi bình phương trung bình : {root_mean_mse}\")"
      ]
    },
    {
      "cell_type": "markdown",
      "metadata": {},
      "source": [
        "Dựa vào kết quả trên thì mô hình thể hiện không tốt vì giá trị mean_mse vẫn lớn nên ta phải tinh chỉnh "
      ]
    },
    {
      "cell_type": "markdown",
      "metadata": {},
      "source": [
        "Quá trình tinh chỉnh: sử dụng GridSearchCV để tìm kiếm siêu tham số tốt nhất cho một mô hình máy học và tinh chỉnh khi dùng validation data"
      ]
    },
    {
      "cell_type": "code",
      "execution_count": 22,
      "metadata": {},
      "outputs": [],
      "source": [
        "pipeline = Pipeline([\n",
        "    ('scaler', StandardScaler()),  # Chuẩn hóa dữ liệu\n",
        "    ('regressor', LinearRegression())  # Mô hình Linear Regression\n",
        "])\n",
        "\n",
        "# Định nghĩa không gian siêu tham số cần điều chỉnh\n",
        "param_grid = {\n",
        "    'regressor__fit_intercept': [True, False],  # Ví dụ siêu tham số fit_intercept của Linear Regression\n",
        "    # Thêm các siêu tham số khác nếu có\n",
        "}\n",
        "\n",
        "# Sử dụng GridSearchCV để tìm giá trị siêu tham số tốt nhất\n",
        "grid_search = GridSearchCV(pipeline, param_grid, cv=5, scoring='neg_mean_squared_error')\n",
        "grid_search.fit(X_val, y_val)\n",
        "\n",
        "# Lấy mô hình tốt nhất sau khi tìm siêu tham số\n",
        "best_model = grid_search.best_estimator_"
      ]
    },
    {
      "cell_type": "markdown",
      "metadata": {},
      "source": [
        "Sau khi đã tinh chỉnh siêu tham số thì so sánh 2 giá trị hiệu suất mô hình được tinh chỉnh trên tập và validation"
      ]
    },
    {
      "cell_type": "code",
      "execution_count": 23,
      "metadata": {},
      "outputs": [
        {
          "name": "stdout",
          "output_type": "stream",
          "text": [
            "Mean Squared Error trên tập validation sau khi tinh chỉnh: 837306.1780946213\n",
            "Mean Squared Error trên tập huấn luyện sau khi tinh chỉnh: 10133212.529210227\n",
            "Mô hình không có dấu hiệu overfitting.\n"
          ]
        }
      ],
      "source": [
        "# Đánh giá hiệu suất của mô hình đã được tinh chỉnh trên tập validation\n",
        "predicted_val_tuned = best_model.predict(X_val)\n",
        "mse_val_tuned = mean_squared_error(y_val, predicted_val_tuned)\n",
        "print(\"Mean Squared Error trên tập validation sau khi tinh chỉnh:\", mse_val_tuned)\n",
        "\n",
        "# Đánh giá hiệu suất của mô hình trên tập huấn luyện\n",
        "predicted_train_tuned = best_model.predict(X_train)\n",
        "mse_train_tuned = mean_squared_error(y_train, predicted_train_tuned)\n",
        "print(\"Mean Squared Error trên tập huấn luyện sau khi tinh chỉnh:\", mse_train_tuned)\n",
        "\n",
        "# Kiểm tra có sự overfitting\n",
        "if mse_train_tuned < mse_val_tuned:\n",
        "    print(\"Mô hình có dấu hiệu overfitting.\")\n",
        "else:\n",
        "    print(\"Mô hình không có dấu hiệu overfitting.\")\n"
      ]
    },
    {
      "cell_type": "markdown",
      "metadata": {},
      "source": [
        "Đánh giá hiệu suất trên tập test"
      ]
    },
    {
      "cell_type": "code",
      "execution_count": 26,
      "metadata": {},
      "outputs": [
        {
          "name": "stdout",
          "output_type": "stream",
          "text": [
            "Tổng ca tử vong do sinh non dự đoán:\n",
            "4508972.747846904\n",
            "Tổng ca tử vong do sinh non thực tế:\n",
            "4582993.558100002\n"
          ]
        }
      ],
      "source": [
        "# In tổng số ca tử vong dự đoán\n",
        "r_squared_test = model.score(X_test, y_test)\n",
        "predicted_test = model.predict(X_test)\n",
        "\n",
        "total_predicted_values = 0\n",
        "total_predicted_values += sum(predicted_test)\n",
        "print(\"Tổng ca tử vong do sinh non dự đoán:\")\n",
        "print(total_predicted_values)\n",
        "\n",
        "total_values = 0\n",
        "total_values += sum(y_test)\n",
        "print(\"Tổng ca tử vong do sinh non thực tế:\")\n",
        "print(total_values)"
      ]
    },
    {
      "cell_type": "markdown",
      "metadata": {},
      "source": [
        "Sử dụng model đã huấn luyện để dự đoán tổng ca tử vong do sinh non thì kết quả tương đương với thực tế (chênh lệch rất bé)"
      ]
    },
    {
      "cell_type": "markdown",
      "metadata": {},
      "source": [
        "Vẽ biểu đồ"
      ]
    },
    {
      "cell_type": "code",
      "execution_count": 27,
      "metadata": {},
      "outputs": [
        {
          "data": {
            "image/png": "[encoded data removed]",
            "text/plain": [
              "<Figure size 800x600 with 1 Axes>"
            ]
          },
          "metadata": {},
          "output_type": "display_data"
        }
      ],
      "source": [
        "# Vẽ biểu đồ\n",
        "plt.figure(figsize=(8, 6))\n",
        "plt.scatter(y_test, predicted_test, alpha=0.5)\n",
        "plt.xlabel(\"Giá trị thực tế\")\n",
        "plt.ylabel(\"Giá trị dự đoán\")\n",
        "plt.title(\"Biểu đồ giá trị thực tế và dự đoán của việc tử vong do sinh non\")\n",
        "plt.grid(True)\n",
        "plt.plot([y_test.min(), y_test.max()], [y_test.min(), y_test.max()], 'k--', lw=2)\n",
        "plt.show()"
      ]
    },
    {
      "cell_type": "markdown",
      "metadata": {},
      "source": [
        "Biểu đồ scatter plot thể hiện mối quan hệ giữa giá trị thực tế và giá trị dự đoán. Nó cho thấy mức độ khớp giữa dữ liệu thực tế và dự đoán từ mô hình \n",
        "\n",
        "Khi các điểm trên biểu đồ scatter plot gần đường chéo (x = y), điều này cho thấy dự đoán gần với giá trị thực tế tương ứng. Điều này thể hiện một mô hình có khả năng dự đoán tốt khi các điểm dữ liệu gần với đường thẳng x = y.\n",
        "\n",
        "Đa số các điểm nằm gần đường chéo, tức là gần x = y, thì đó là một dấu hiệu tích cực cho sự chính xác của mô hình. Nghĩa là mô hình có thể dự đoán tương đối chính xác so với giá trị thực tế."
      ]
    },
    {
      "cell_type": "markdown",
      "metadata": {},
      "source": [
        "***DỰ ĐOÁN SỐ CA TỬ VONG DO BỆNH DỊCH DỰA TRÊN SỐ CA TỬ VONG KHÔNG DO BỆNH DỊCH***"
      ]
    },
    {
      "cell_type": "markdown",
      "metadata": {},
      "source": [
        "Đọc và chuẩn bị dữ liệu:"
      ]
    },
    {
      "cell_type": "code",
      "execution_count": 5,
      "metadata": {},
      "outputs": [
        {
          "data": {
            "text/html": [
              "<div>\n",
              "<style scoped>\n",
              "    .dataframe tbody tr th:only-of-type {\n",
              "        vertical-align: middle;\n",
              "    }\n",
              "\n",
              "    .dataframe tbody tr th {\n",
              "        vertical-align: top;\n",
              "    }\n",
              "\n",
              "    .dataframe thead th {\n",
              "        text-align: right;\n",
              "    }\n",
              "</style>\n",
              "<table border=\"1\" class=\"dataframe\">\n",
              "  <thead>\n",
              "    <tr style=\"text-align: right;\">\n",
              "      <th></th>\n",
              "      <th>Prematurity</th>\n",
              "      <th>Birth asphyxia and birth trauma</th>\n",
              "      <th>Sepsis and other infectious conditions of the newborn</th>\n",
              "      <th>Congenital anomalies</th>\n",
              "      <th>Injuries</th>\n",
              "      <th>Other Group 1 and Other noncommunicable (neonatal and under-5 only)</th>\n",
              "      <th>HIV/AIDS</th>\n",
              "      <th>Diarrhoeal diseases</th>\n",
              "      <th>Tetanus</th>\n",
              "      <th>Meningitis/encephalitis</th>\n",
              "      <th>Acute lower respiratory infections</th>\n",
              "      <th>CountryName</th>\n",
              "      <th>Year</th>\n",
              "    </tr>\n",
              "  </thead>\n",
              "  <tbody>\n",
              "    <tr>\n",
              "      <th>0</th>\n",
              "      <td>19333.41926</td>\n",
              "      <td>11691.37210</td>\n",
              "      <td>4489.50404</td>\n",
              "      <td>1534.08344</td>\n",
              "      <td>371.28902</td>\n",
              "      <td>10579.92644</td>\n",
              "      <td>0.22891</td>\n",
              "      <td>1973.08786</td>\n",
              "      <td>2331.69796</td>\n",
              "      <td>1395.33839</td>\n",
              "      <td>6908.05259</td>\n",
              "      <td>0</td>\n",
              "      <td>2000</td>\n",
              "    </tr>\n",
              "    <tr>\n",
              "      <th>2</th>\n",
              "      <td>351.16760</td>\n",
              "      <td>110.05251</td>\n",
              "      <td>17.54192</td>\n",
              "      <td>106.22332</td>\n",
              "      <td>4.31283</td>\n",
              "      <td>30.48989</td>\n",
              "      <td>0.00347</td>\n",
              "      <td>0.77210</td>\n",
              "      <td>0.09764</td>\n",
              "      <td>10.36631</td>\n",
              "      <td>36.97242</td>\n",
              "      <td>1</td>\n",
              "      <td>2000</td>\n",
              "    </tr>\n",
              "    <tr>\n",
              "      <th>50</th>\n",
              "      <td>5980.65286</td>\n",
              "      <td>2927.85325</td>\n",
              "      <td>616.03382</td>\n",
              "      <td>1376.99623</td>\n",
              "      <td>74.84093</td>\n",
              "      <td>1380.70495</td>\n",
              "      <td>0.23927</td>\n",
              "      <td>158.08815</td>\n",
              "      <td>26.91144</td>\n",
              "      <td>16.30852</td>\n",
              "      <td>881.37058</td>\n",
              "      <td>2</td>\n",
              "      <td>2000</td>\n",
              "    </tr>\n",
              "    <tr>\n",
              "      <th>3</th>\n",
              "      <td>3.00000</td>\n",
              "      <td>0.00000</td>\n",
              "      <td>0.00000</td>\n",
              "      <td>0.00000</td>\n",
              "      <td>0.00000</td>\n",
              "      <td>0.00000</td>\n",
              "      <td>0.00000</td>\n",
              "      <td>0.00000</td>\n",
              "      <td>0.00000</td>\n",
              "      <td>0.00000</td>\n",
              "      <td>0.00000</td>\n",
              "      <td>3</td>\n",
              "      <td>2000</td>\n",
              "    </tr>\n",
              "    <tr>\n",
              "      <th>1</th>\n",
              "      <td>14761.72219</td>\n",
              "      <td>10042.87869</td>\n",
              "      <td>2977.92908</td>\n",
              "      <td>1405.50824</td>\n",
              "      <td>130.32201</td>\n",
              "      <td>3849.14708</td>\n",
              "      <td>30.31433</td>\n",
              "      <td>724.01316</td>\n",
              "      <td>768.57928</td>\n",
              "      <td>357.27433</td>\n",
              "      <td>4267.31161</td>\n",
              "      <td>4</td>\n",
              "      <td>2000</td>\n",
              "    </tr>\n",
              "    <tr>\n",
              "      <th>...</th>\n",
              "      <td>...</td>\n",
              "      <td>...</td>\n",
              "      <td>...</td>\n",
              "      <td>...</td>\n",
              "      <td>...</td>\n",
              "      <td>...</td>\n",
              "      <td>...</td>\n",
              "      <td>...</td>\n",
              "      <td>...</td>\n",
              "      <td>...</td>\n",
              "      <td>...</td>\n",
              "      <td>...</td>\n",
              "      <td>...</td>\n",
              "    </tr>\n",
              "    <tr>\n",
              "      <th>4260</th>\n",
              "      <td>2673.22647</td>\n",
              "      <td>960.88724</td>\n",
              "      <td>1092.00821</td>\n",
              "      <td>1203.88330</td>\n",
              "      <td>58.98988</td>\n",
              "      <td>321.93828</td>\n",
              "      <td>4.74321</td>\n",
              "      <td>0.00000</td>\n",
              "      <td>0.50689</td>\n",
              "      <td>16.85169</td>\n",
              "      <td>445.96484</td>\n",
              "      <td>189</td>\n",
              "      <td>2021</td>\n",
              "    </tr>\n",
              "    <tr>\n",
              "      <th>4261</th>\n",
              "      <td>6720.13973</td>\n",
              "      <td>2746.41663</td>\n",
              "      <td>903.09071</td>\n",
              "      <td>3263.68818</td>\n",
              "      <td>95.86427</td>\n",
              "      <td>1027.67444</td>\n",
              "      <td>1.55693</td>\n",
              "      <td>5.85241</td>\n",
              "      <td>0.87340</td>\n",
              "      <td>37.84935</td>\n",
              "      <td>600.99395</td>\n",
              "      <td>190</td>\n",
              "      <td>2021</td>\n",
              "    </tr>\n",
              "    <tr>\n",
              "      <th>4264</th>\n",
              "      <td>11286.37393</td>\n",
              "      <td>6796.63328</td>\n",
              "      <td>1742.58956</td>\n",
              "      <td>2227.89226</td>\n",
              "      <td>229.08594</td>\n",
              "      <td>3051.97336</td>\n",
              "      <td>0.90444</td>\n",
              "      <td>521.35998</td>\n",
              "      <td>129.94279</td>\n",
              "      <td>44.07145</td>\n",
              "      <td>2523.17301</td>\n",
              "      <td>191</td>\n",
              "      <td>2021</td>\n",
              "    </tr>\n",
              "    <tr>\n",
              "      <th>4266</th>\n",
              "      <td>6920.62510</td>\n",
              "      <td>4054.12780</td>\n",
              "      <td>912.70245</td>\n",
              "      <td>1274.53105</td>\n",
              "      <td>35.09944</td>\n",
              "      <td>1776.66284</td>\n",
              "      <td>22.93804</td>\n",
              "      <td>134.08604</td>\n",
              "      <td>23.52546</td>\n",
              "      <td>108.91078</td>\n",
              "      <td>1228.79101</td>\n",
              "      <td>192</td>\n",
              "      <td>2021</td>\n",
              "    </tr>\n",
              "    <tr>\n",
              "      <th>4267</th>\n",
              "      <td>5268.77405</td>\n",
              "      <td>2940.32032</td>\n",
              "      <td>657.14015</td>\n",
              "      <td>953.81393</td>\n",
              "      <td>44.91293</td>\n",
              "      <td>1314.32117</td>\n",
              "      <td>25.53906</td>\n",
              "      <td>87.16720</td>\n",
              "      <td>15.59287</td>\n",
              "      <td>37.95557</td>\n",
              "      <td>865.46276</td>\n",
              "      <td>193</td>\n",
              "      <td>2021</td>\n",
              "    </tr>\n",
              "  </tbody>\n",
              "</table>\n",
              "<p>4268 rows × 13 columns</p>\n",
              "</div>"
            ],
            "text/plain": [
              "      Prematurity  Birth asphyxia and birth trauma  \\\n",
              "0     19333.41926                      11691.37210   \n",
              "2       351.16760                        110.05251   \n",
              "50     5980.65286                       2927.85325   \n",
              "3         3.00000                          0.00000   \n",
              "1     14761.72219                      10042.87869   \n",
              "...           ...                              ...   \n",
              "4260   2673.22647                        960.88724   \n",
              "4261   6720.13973                       2746.41663   \n",
              "4264  11286.37393                       6796.63328   \n",
              "4266   6920.62510                       4054.12780   \n",
              "4267   5268.77405                       2940.32032   \n",
              "\n",
              "      Sepsis and other infectious conditions of the newborn  \\\n",
              "0                                            4489.50404       \n",
              "2                                              17.54192       \n",
              "50                                            616.03382       \n",
              "3                                               0.00000       \n",
              "1                                            2977.92908       \n",
              "...                                                 ...       \n",
              "4260                                         1092.00821       \n",
              "4261                                          903.09071       \n",
              "4264                                         1742.58956       \n",
              "4266                                          912.70245       \n",
              "4267                                          657.14015       \n",
              "\n",
              "      Congenital anomalies   Injuries  \\\n",
              "0               1534.08344  371.28902   \n",
              "2                106.22332    4.31283   \n",
              "50              1376.99623   74.84093   \n",
              "3                  0.00000    0.00000   \n",
              "1               1405.50824  130.32201   \n",
              "...                    ...        ...   \n",
              "4260            1203.88330   58.98988   \n",
              "4261            3263.68818   95.86427   \n",
              "4264            2227.89226  229.08594   \n",
              "4266            1274.53105   35.09944   \n",
              "4267             953.81393   44.91293   \n",
              "\n",
              "      Other Group 1 and Other noncommunicable (neonatal and under-5 only)  \\\n",
              "0                                           10579.92644                     \n",
              "2                                              30.48989                     \n",
              "50                                           1380.70495                     \n",
              "3                                               0.00000                     \n",
              "1                                            3849.14708                     \n",
              "...                                                 ...                     \n",
              "4260                                          321.93828                     \n",
              "4261                                         1027.67444                     \n",
              "4264                                         3051.97336                     \n",
              "4266                                         1776.66284                     \n",
              "4267                                         1314.32117                     \n",
              "\n",
              "      HIV/AIDS  Diarrhoeal diseases     Tetanus  Meningitis/encephalitis  \\\n",
              "0      0.22891           1973.08786  2331.69796               1395.33839   \n",
              "2      0.00347              0.77210     0.09764                 10.36631   \n",
              "50     0.23927            158.08815    26.91144                 16.30852   \n",
              "3      0.00000              0.00000     0.00000                  0.00000   \n",
              "1     30.31433            724.01316   768.57928                357.27433   \n",
              "...        ...                  ...         ...                      ...   \n",
              "4260   4.74321              0.00000     0.50689                 16.85169   \n",
              "4261   1.55693              5.85241     0.87340                 37.84935   \n",
              "4264   0.90444            521.35998   129.94279                 44.07145   \n",
              "4266  22.93804            134.08604    23.52546                108.91078   \n",
              "4267  25.53906             87.16720    15.59287                 37.95557   \n",
              "\n",
              "      Acute lower respiratory infections  CountryName  Year  \n",
              "0                             6908.05259            0  2000  \n",
              "2                               36.97242            1  2000  \n",
              "50                             881.37058            2  2000  \n",
              "3                                0.00000            3  2000  \n",
              "1                             4267.31161            4  2000  \n",
              "...                                  ...          ...   ...  \n",
              "4260                           445.96484          189  2021  \n",
              "4261                           600.99395          190  2021  \n",
              "4264                          2523.17301          191  2021  \n",
              "4266                          1228.79101          192  2021  \n",
              "4267                           865.46276          193  2021  \n",
              "\n",
              "[4268 rows x 13 columns]"
            ]
          },
          "execution_count": 5,
          "metadata": {},
          "output_type": "execute_result"
        }
      ],
      "source": [
        "# Lấy dữ liệu từ thư mục Data\n",
        "url = \"../../../../NMKHDL_FinalProject/Data/number_of_deaths_processed_data.csv\"\n",
        "\n",
        "# Đọc file\n",
        "deaths = pd.read_csv(url)\n",
        "\n",
        "# Bỏ các cột dữ liệu có quá nhiều giá trị vô ích\n",
        "deaths = deaths.sort_values(['Year', 'CountryName'])\n",
        "deaths = deaths.loc[:, deaths.isin([' ', 'NULL', 0]).mean() < .75]\n",
        "\n",
        "# Chuyển cột 'CountryName' sang kiểu dữ liệu categorical\n",
        "# Index: 0 -> 193 (194 quốc gia)\n",
        "LE = preprocessing.LabelEncoder()\n",
        "deaths['CountryName'] = LE.fit_transform(deaths['CountryName'])\n",
        "\n",
        "deaths"
      ]
    },
    {
      "cell_type": "markdown",
      "metadata": {},
      "source": [
        "Input & Output:\n",
        "\n",
        "Chia các feature thành independent và dependent variables phục vụ cho quá trình dự đoán:\n",
        "\n",
        "---\n",
        "\n",
        "- Independent: Các nguyên nhân tử vong không phải vì bệnh dịch, gồm:\n",
        "  *   Prematurity (Sinh non)\n",
        "  *   Birth asphyxia/trauma (Ngạt sơ sinh)\n",
        "  *   Congenital anomalies (Dị tật bẩm sinh)\n",
        "  *   Injuries (Chấn thương)\n",
        "- Dependent: Các nguyên nhân tử vong do bệnh dịch (HIV, bệnh tiêu chảy, ...)\n",
        "\n",
        "Lý giải phân chia dữ liệu:\n",
        "\n",
        "- Với dataset sử dụng, các features được phân chia để phù hợp độ tương quan thu được từ quá trình data exploration (khám phá dữ liệu) và dựa trên ý nghĩa của features do người tạo mô hình nhận thấy\n",
        "\n",
        "- Xác định các variables để xác định được nhiệm vụ của mô hình và dữ liệu nào mô hình sẽ sử dụng để huấn luyện và để dự đoán.\n",
        "\n",
        "---"
      ]
    },
    {
      "cell_type": "markdown",
      "metadata": {},
      "source": [
        "Liệt kê các features sử dụng để lấy dữ liệu làm independent variables:"
      ]
    },
    {
      "cell_type": "code",
      "execution_count": 7,
      "metadata": {},
      "outputs": [],
      "source": [
        "features = ['Prematurity', 'Birth asphyxia and birth trauma', 'Congenital anomalies', 'Injuries', 'CountryName', 'Year']"
      ]
    },
    {
      "cell_type": "markdown",
      "metadata": {},
      "source": [
        "Phân chia dữ liệu và tạo các tập dữ liệu để train, test và validation:\n",
        "\n",
        "Tỉ lệ lựa chọn:\n",
        "  * Train: Từ năm 2000 - 2012 (2522 records)\n",
        "  * Test: Từ năm 2013 - 2016 (776 records)\n",
        "  * Validation: Từ năm 2017 - 2021 (970 records)"
      ]
    },
    {
      "cell_type": "code",
      "execution_count": 17,
      "metadata": {},
      "outputs": [],
      "source": [
        "X_train = (deaths[deaths['Year'].isin(range(2000, 2013))])[features]\n",
        "Y_train = (deaths[deaths['Year'].isin(range(2000, 2013))]).drop(columns=features)\n",
        "\n",
        "X_test = (deaths[deaths['Year'].isin(range(2013, 2017))])[features]\n",
        "Y_test = (deaths[deaths['Year'].isin(range(2013, 2017))]).drop(columns=features)\n",
        "\n",
        "X_val = (deaths[deaths['Year'].isin(range(2017, 2022))])[features]\n",
        "Y_val = (deaths[deaths['Year'].isin(range(2017, 2022))]).drop(columns=features)"
      ]
    },
    {
      "cell_type": "code",
      "execution_count": 18,
      "metadata": {},
      "outputs": [
        {
          "name": "stdout",
          "output_type": "stream",
          "text": [
            "(2522, 6)\n",
            "(2522, 7)\n",
            "(776, 6)\n",
            "(776, 7)\n",
            "(970, 6)\n",
            "(970, 7)\n"
          ]
        }
      ],
      "source": [
        "print(X_train.shape)\n",
        "print(Y_train.shape)\n",
        "\n",
        "print(X_test.shape)\n",
        "print(Y_test.shape)\n",
        "\n",
        "print(X_val.shape)\n",
        "print(Y_val.shape)"
      ]
    },
    {
      "cell_type": "markdown",
      "metadata": {},
      "source": [
        "Khởi tạo mô hình với các tham số mặc định và huấn luyện mô hình:"
      ]
    },
    {
      "cell_type": "code",
      "execution_count": 19,
      "metadata": {},
      "outputs": [
        {
          "data": {
            "text/html": [
              "<style>#sk-container-id-1 {color: black;background-color: white;}#sk-container-id-1 pre{padding: 0;}#sk-container-id-1 div.sk-toggleable {background-color: white;}#sk-container-id-1 label.sk-toggleable__label {cursor: pointer;display: block;width: 100%;margin-bottom: 0;padding: 0.3em;box-sizing: border-box;text-align: center;}#sk-container-id-1 label.sk-toggleable__label-arrow:before {content: \"▸\";float: left;margin-right: 0.25em;color: #696969;}#sk-container-id-1 label.sk-toggleable__label-arrow:hover:before {color: black;}#sk-container-id-1 div.sk-estimator:hover label.sk-toggleable__label-arrow:before {color: black;}#sk-container-id-1 div.sk-toggleable__content {max-height: 0;max-width: 0;overflow: hidden;text-align: left;background-color: #f0f8ff;}#sk-container-id-1 div.sk-toggleable__content pre {margin: 0.2em;color: black;border-radius: 0.25em;background-color: #f0f8ff;}#sk-container-id-1 input.sk-toggleable__control:checked~div.sk-toggleable__content {max-height: 200px;max-width: 100%;overflow: auto;}#sk-container-id-1 input.sk-toggleable__control:checked~label.sk-toggleable__label-arrow:before {content: \"▾\";}#sk-container-id-1 div.sk-estimator input.sk-toggleable__control:checked~label.sk-toggleable__label {background-color: #d4ebff;}#sk-container-id-1 div.sk-label input.sk-toggleable__control:checked~label.sk-toggleable__label {background-color: #d4ebff;}#sk-container-id-1 input.sk-hidden--visually {border: 0;clip: rect(1px 1px 1px 1px);clip: rect(1px, 1px, 1px, 1px);height: 1px;margin: -1px;overflow: hidden;padding: 0;position: absolute;width: 1px;}#sk-container-id-1 div.sk-estimator {font-family: monospace;background-color: #f0f8ff;border: 1px dotted black;border-radius: 0.25em;box-sizing: border-box;margin-bottom: 0.5em;}#sk-container-id-1 div.sk-estimator:hover {background-color: #d4ebff;}#sk-container-id-1 div.sk-parallel-item::after {content: \"\";width: 100%;border-bottom: 1px solid gray;flex-grow: 1;}#sk-container-id-1 div.sk-label:hover label.sk-toggleable__label {background-color: #d4ebff;}#sk-container-id-1 div.sk-serial::before {content: \"\";position: absolute;border-left: 1px solid gray;box-sizing: border-box;top: 0;bottom: 0;left: 50%;z-index: 0;}#sk-container-id-1 div.sk-serial {display: flex;flex-direction: column;align-items: center;background-color: white;padding-right: 0.2em;padding-left: 0.2em;position: relative;}#sk-container-id-1 div.sk-item {position: relative;z-index: 1;}#sk-container-id-1 div.sk-parallel {display: flex;align-items: stretch;justify-content: center;background-color: white;position: relative;}#sk-container-id-1 div.sk-item::before, #sk-container-id-1 div.sk-parallel-item::before {content: \"\";position: absolute;border-left: 1px solid gray;box-sizing: border-box;top: 0;bottom: 0;left: 50%;z-index: -1;}#sk-container-id-1 div.sk-parallel-item {display: flex;flex-direction: column;z-index: 1;position: relative;background-color: white;}#sk-container-id-1 div.sk-parallel-item:first-child::after {align-self: flex-end;width: 50%;}#sk-container-id-1 div.sk-parallel-item:last-child::after {align-self: flex-start;width: 50%;}#sk-container-id-1 div.sk-parallel-item:only-child::after {width: 0;}#sk-container-id-1 div.sk-dashed-wrapped {border: 1px dashed gray;margin: 0 0.4em 0.5em 0.4em;box-sizing: border-box;padding-bottom: 0.4em;background-color: white;}#sk-container-id-1 div.sk-label label {font-family: monospace;font-weight: bold;display: inline-block;line-height: 1.2em;}#sk-container-id-1 div.sk-label-container {text-align: center;}#sk-container-id-1 div.sk-container {/* jupyter's `normalize.less` sets `[hidden] { display: none; }` but bootstrap.min.css set `[hidden] { display: none !important; }` so we also need the `!important` here to be able to override the default hidden behavior on the sphinx rendered scikit-learn.org. See: https://github.com/scikit-learn/scikit-learn/issues/21755 */display: inline-block !important;position: relative;}#sk-container-id-1 div.sk-text-repr-fallback {display: none;}</style><div id=\"sk-container-id-1\" class=\"sk-top-container\"><div class=\"sk-text-repr-fallback\"><pre>LinearRegression()</pre><b>In a Jupyter environment, please rerun this cell to show the HTML representation or trust the notebook. <br />On GitHub, the HTML representation is unable to render, please try loading this page with nbviewer.org.</b></div><div class=\"sk-container\" hidden><div class=\"sk-item\"><div class=\"sk-estimator sk-toggleable\"><input class=\"sk-toggleable__control sk-hidden--visually\" id=\"sk-estimator-id-1\" type=\"checkbox\" checked><label for=\"sk-estimator-id-1\" class=\"sk-toggleable__label sk-toggleable__label-arrow\">LinearRegression</label><div class=\"sk-toggleable__content\"><pre>LinearRegression()</pre></div></div></div></div></div>"
            ],
            "text/plain": [
              "LinearRegression()"
            ]
          },
          "execution_count": 19,
          "metadata": {},
          "output_type": "execute_result"
        }
      ],
      "source": [
        "# Xác định mô hình hồi quy tuyến tính\n",
        "LR = LinearRegression()\n",
        "\n",
        "# Huấn luyện mô hình với dữ liệu huấn luyện đã chia\n",
        "LR.fit(X_train, Y_train)"
      ]
    },
    {
      "cell_type": "markdown",
      "metadata": {},
      "source": [
        "Dự đoán khi dùng model"
      ]
    },
    {
      "cell_type": "code",
      "execution_count": 20,
      "metadata": {},
      "outputs": [],
      "source": [
        "# Thực hiện\n",
        "Y_pred = LR.predict(X_test)"
      ]
    },
    {
      "cell_type": "code",
      "execution_count": 21,
      "metadata": {},
      "outputs": [
        {
          "data": {
            "image/png": "[encoded data removed]",
            "text/plain": [
              "<Figure size 432x288 with 1 Axes>"
            ]
          },
          "metadata": {
            "needs_background": "light"
          },
          "output_type": "display_data"
        }
      ],
      "source": [
        "# Biểu đồ thể hiện mức độ chính xác của dự đoán\n",
        "plt.scatter(Y_test, Y_pred)\n",
        "plt.xlabel(\"Giá trị thực tế\")\n",
        "plt.ylabel(\"Giá trị dự đoán\")\n",
        "plt.grid(True)\n",
        "plt.show()"
      ]
    },
    {
      "cell_type": "markdown",
      "metadata": {},
      "source": [
        "Đánh giá bằng các thang đo lường:\n",
        "- Mean squared error:\n",
        "- R2:"
      ]
    },
    {
      "cell_type": "code",
      "execution_count": 22,
      "metadata": {},
      "outputs": [],
      "source": [
        "mse = mean_squared_error(Y_test, Y_pred)\n",
        "r2 = r2_score(Y_test, Y_pred)"
      ]
    },
    {
      "cell_type": "code",
      "execution_count": 23,
      "metadata": {},
      "outputs": [
        {
          "name": "stdout",
          "output_type": "stream",
          "text": [
            "MSE: 877943.2898962081\n",
            "R2 score: 0.7857593190812285\n"
          ]
        }
      ],
      "source": [
        "print('MSE:', mse)\n",
        "print('R2 score:', r2)"
      ]
    },
    {
      "cell_type": "markdown",
      "metadata": {},
      "source": [
        "---\n",
        "Nhận xét sơ lược kết quả sau quá trình huấn luyện với tham số mặc định:\n",
        "- Điểm R2 đạt ~85.33% là khá tốt\n",
        "\n",
        "---"
      ]
    },
    {
      "cell_type": "markdown",
      "metadata": {},
      "source": [
        "---\n",
        "Thực hiện tinh chỉnh thử nghiệm:\n",
        "- Regularization: Sử dụng các mô hình chính quy hóa Ridge, Lasso.\n",
        "- Hyperparameters adjusting: Thay đổi các parameter trong các mô hình Linear Regression.\n",
        "---"
      ]
    },
    {
      "cell_type": "markdown",
      "metadata": {},
      "source": [
        "Regularization:"
      ]
    },
    {
      "cell_type": "code",
      "execution_count": 24,
      "metadata": {},
      "outputs": [],
      "source": [
        "# Thư viện sử dụng để lập mô hình Ridge\n",
        "from sklearn.linear_model import Ridge, Lasso\n",
        "from sklearn.preprocessing import StandardScaler\n",
        "from sklearn.pipeline import make_pipeline"
      ]
    },
    {
      "cell_type": "markdown",
      "metadata": {},
      "source": [
        "Default Ridge:"
      ]
    },
    {
      "cell_type": "code",
      "execution_count": 25,
      "metadata": {},
      "outputs": [
        {
          "data": {
            "image/png": "[encoded data removed]",
            "text/plain": [
              "<Figure size 432x288 with 1 Axes>"
            ]
          },
          "metadata": {
            "needs_background": "light"
          },
          "output_type": "display_data"
        },
        {
          "name": "stdout",
          "output_type": "stream",
          "text": [
            "MSE: 878650.9100953441\n",
            "R2 score: 0.7880037530719888\n"
          ]
        }
      ],
      "source": [
        "# Xác định mô hình hồi quy tuyến tính Ridge\n",
        "LR = Ridge(alpha=1.0)\n",
        "\n",
        "model_pipeline = make_pipeline(StandardScaler(), LR)\n",
        "\n",
        "# Huấn luyện mô hình với dữ liệu huấn luyện đã chia\n",
        "model_pipeline.fit(X_train, Y_train)\n",
        "\n",
        "# Thực hiện\n",
        "Y_pred = model_pipeline.predict(X_test)\n",
        "\n",
        "# Biểu đồ thể hiện mức độ chính xác của dự đoán\n",
        "plt.scatter(Y_test, Y_pred)\n",
        "plt.xlabel(\"Giá trị thực tế\")\n",
        "plt.ylabel(\"Giá trị dự đoán\")\n",
        "plt.grid(True)\n",
        "plt.show()\n",
        "\n",
        "# Điểm số sau dự đoán\n",
        "mse = mean_squared_error(Y_test, Y_pred)\n",
        "r2 = r2_score(Y_test, Y_pred)\n",
        "print('MSE:', mse)\n",
        "print('R2 score:', r2)"
      ]
    },
    {
      "cell_type": "markdown",
      "metadata": {},
      "source": [
        "Default Lasso:"
      ]
    },
    {
      "cell_type": "code",
      "execution_count": 26,
      "metadata": {},
      "outputs": [
        {
          "data": {
            "image/png": "[encoded data removed]",
            "text/plain": [
              "<Figure size 432x288 with 1 Axes>"
            ]
          },
          "metadata": {
            "needs_background": "light"
          },
          "output_type": "display_data"
        },
        {
          "name": "stdout",
          "output_type": "stream",
          "text": [
            "MSE: 877207.3588600612\n",
            "R2 score: 0.8106550839801275\n"
          ]
        }
      ],
      "source": [
        "# Xác định mô hình hồi quy tuyến tính Ridge\n",
        "LR = Lasso(alpha=1.0)\n",
        "\n",
        "model_pipeline = make_pipeline(StandardScaler(), LR)\n",
        "\n",
        "# Huấn luyện mô hình với dữ liệu huấn luyện đã chia\n",
        "model_pipeline.fit(X_train, Y_train)\n",
        "\n",
        "# Thực hiện\n",
        "Y_pred = model_pipeline.predict(X_test)\n",
        "\n",
        "# Biểu đồ thể hiện mức độ chính xác của dự đoán\n",
        "plt.scatter(Y_test, Y_pred)\n",
        "plt.xlabel(\"Giá trị thực tế\")\n",
        "plt.ylabel(\"Giá trị dự đoán\")\n",
        "plt.grid(True)\n",
        "plt.show()\n",
        "\n",
        "# Điểm số sau dự đoán\n",
        "mse = mean_squared_error(Y_test, Y_pred)\n",
        "r2 = r2_score(Y_test, Y_pred)\n",
        "print('MSE:', mse)\n",
        "print('R2 score:', r2)"
      ]
    },
    {
      "cell_type": "markdown",
      "metadata": {},
      "source": [
        "Ridge + tinh chỉnh tham số:\n",
        "- alpha (float, mặc định là 1.0): Độ mạnh của việc điều chuẩn. Giá trị cao của α sẽ dẫn đến việc điều chuẩn mạnh mẽ hơn.\n"
      ]
    },
    {
      "cell_type": "code",
      "execution_count": 27,
      "metadata": {},
      "outputs": [
        {
          "data": {
            "image/png": "[encoded data removed]",
            "text/plain": [
              "<Figure size 432x288 with 1 Axes>"
            ]
          },
          "metadata": {
            "needs_background": "light"
          },
          "output_type": "display_data"
        },
        {
          "name": "stdout",
          "output_type": "stream",
          "text": [
            "MSE: 940058.4909258325\n",
            "R2 score: 0.8012016585063451\n"
          ]
        }
      ],
      "source": [
        "# Xác định mô hình hồi quy tuyến tính Ridge\n",
        "LR = Ridge(alpha=16)\n",
        "\n",
        "model_pipeline = make_pipeline(StandardScaler(), LR)\n",
        "\n",
        "# Huấn luyện mô hình với dữ liệu huấn luyện đã chia\n",
        "model_pipeline.fit(X_train, Y_train)\n",
        "\n",
        "# Thực hiện\n",
        "Y_pred = model_pipeline.predict(X_test)\n",
        "\n",
        "# Biểu đồ thể hiện mức độ chính xác của dự đoán\n",
        "plt.scatter(Y_test, Y_pred)\n",
        "plt.xlabel(\"Giá trị thực tế\")\n",
        "plt.ylabel(\"Giá trị dự đoán\")\n",
        "plt.grid(True)\n",
        "plt.show()\n",
        "\n",
        "# Điểm số sau dự đoán\n",
        "mse = mean_squared_error(Y_test, Y_pred)\n",
        "r2 = r2_score(Y_test, Y_pred)\n",
        "print('MSE:', mse)\n",
        "print('R2 score:', r2)"
      ]
    },
    {
      "cell_type": "markdown",
      "metadata": {},
      "source": [
        "Lasso + tinh chỉnh tham số:"
      ]
    },
    {
      "cell_type": "code",
      "execution_count": 31,
      "metadata": {},
      "outputs": [
        {
          "data": {
            "image/png": "[encoded data removed]",
            "text/plain": [
              "<Figure size 432x288 with 1 Axes>"
            ]
          },
          "metadata": {
            "needs_background": "light"
          },
          "output_type": "display_data"
        },
        {
          "name": "stdout",
          "output_type": "stream",
          "text": [
            "MSE: 877229.5428727003\n",
            "R2 score: 0.8111540918299275\n"
          ]
        }
      ],
      "source": [
        "# Xác định mô hình hồi quy tuyến tính Ridge\n",
        "LR = Lasso(alpha=.96)\n",
        "\n",
        "model_pipeline = make_pipeline(StandardScaler(), LR)\n",
        "\n",
        "# Huấn luyện mô hình với dữ liệu huấn luyện đã chia\n",
        "model_pipeline.fit(X_train, Y_train)\n",
        "\n",
        "# Thực hiện\n",
        "Y_pred = model_pipeline.predict(X_test)\n",
        "\n",
        "# Biểu đồ thể hiện mức độ chính xác của dự đoán\n",
        "plt.scatter(Y_test, Y_pred)\n",
        "plt.xlabel(\"Giá trị thực tế\")\n",
        "plt.ylabel(\"Giá trị dự đoán\")\n",
        "plt.grid(True)\n",
        "plt.show()\n",
        "\n",
        "# Điểm số sau dự đoán\n",
        "mse = mean_squared_error(Y_test, Y_pred)\n",
        "r2 = r2_score(Y_test, Y_pred)\n",
        "print('MSE:', mse)\n",
        "print('R2 score:', r2)"
      ]
    }
  ],
  "metadata": {
    "colab": {
      "provenance": []
    },
    "kernelspec": {
      "display_name": "Python 3",
      "name": "python3"
    },
    "language_info": {
      "codemirror_mode": {
        "name": "ipython",
        "version": 3
      },
      "file_extension": ".py",
      "mimetype": "text/x-python",
      "name": "python",
      "nbconvert_exporter": "python",
      "pygments_lexer": "ipython3",
      "version": "3.10.7"
    }
  },
  "nbformat": 4,
  "nbformat_minor": 0
}
