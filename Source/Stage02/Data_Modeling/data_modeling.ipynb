{
  "cells": [
    {
      "cell_type": "markdown",
      "metadata": {
        "id": "MrTqX2qi21Qy"
      },
      "source": [
        "Libraries:"
      ]
    },
    {
      "cell_type": "code",
      "execution_count": 1,
      "metadata": {
        "id": "ZAtu6VSKOaIX"
      },
      "outputs": [],
      "source": [
        "# Thêm các thư viện\n",
        "import numpy as np\n",
        "import pandas as pd\n",
        "import seaborn as sns\n",
        "import matplotlib.pyplot as plt\n",
        "from sklearn import preprocessing, svm\n",
        "from sklearn.pipeline import Pipeline\n",
        "from sklearn.preprocessing import LabelEncoder, StandardScaler\n",
        "from sklearn.model_selection import train_test_split, cross_val_score, GridSearchCV\n",
        "from sklearn.linear_model import LinearRegression\n",
        "from sklearn.metrics import accuracy_score, precision_score, recall_score, mean_squared_error"
      ]
    },
    {
      "cell_type": "markdown",
      "metadata": {},
      "source": [
        "***DỰ ĐOÁN SỐ CA TỬ VONG DO SINH NON***"
      ]
    },
    {
      "cell_type": "markdown",
      "metadata": {},
      "source": [
        "Chúng ta muốn dự đoán một giá trị liên tục là số lượng ca tử vong do sinh non dự kiến các năm.\n",
        "\n",
        "Chúng ta sẽ sử dụng thuật toán học máy hồi quy để xây dựng một mô hình có khả năng dự đoán số lượng ca tử vong do sinh non dựa trên các đặc trưng được cung cấp.\n",
        "\n",
        "Mục tiêu là tìm một mô hình có thể ước lượng chính xác số ca tử vong dự kiến dựa trên thông tin đã biết, giúp trong việc đưa ra các biện pháp phòng ngừa và cải thiện chăm sóc sức khỏe thai phụ."
      ]
    },
    {
      "cell_type": "code",
      "execution_count": 9,
      "metadata": {},
      "outputs": [],
      "source": [
        "cleaned_df = pd.read_csv(\"../../../Data/number_of_deaths_processed_data.csv\")\n",
        "df_copy = cleaned_df.copy()\n",
        "df_copy = df_copy.drop(['CountryName'], axis='columns')"
      ]
    },
    {
      "cell_type": "markdown",
      "metadata": {},
      "source": [
        "Định nghĩa tỷ lệ số năm"
      ]
    },
    {
      "cell_type": "markdown",
      "metadata": {},
      "source": [
        "Việc chọn tỉ lệ này có thể dựa trên một số tiêu chí:\n",
        "\n",
        "Training set lớn: Chọn năm 2000-2013 làm tập huấn luyện, vì muốn mô hình học từ nhiều dữ liệu hơn để học các mẫu, quy luật phức tạp hơn.\n",
        "\n",
        "Validation set có sự đa dạng: Chọn 2011-2017 cho tập validation để đảm bảo nó bao gồm dữ liệu đa dạng hơn, không trùng với tập huấn luyện nhưng vẫn nằm trong ngữ cảnh thời gian gần.\n",
        "\n",
        "Test set mới nhất: Dữ liệu từ 2017-2022 được chọn làm tập kiểm tra để kiểm tra hiệu suất của mô hình trên dữ liệu mới, không được sử dụng trong quá trình huấn luyện hoặc điều chỉnh siêu tham số."
      ]
    },
    {
      "cell_type": "code",
      "execution_count": 10,
      "metadata": {},
      "outputs": [],
      "source": [
        "# Tạo danh sách các năm từ 2000 đến 2021\n",
        "years = list(range(2000, 2022))\n",
        "\n",
        "# Tính số lượng dòng tương ứng với từng phần\n",
        "train_years = 13\n",
        "val_years = 4\n",
        "test_years = 5\n",
        "\n",
        "# Tính số dòng tương ứng cho mỗi phần\n",
        "total_years = train_years + val_years + test_years\n",
        "train_data_years = int(len(df_copy) * (train_years / total_years))\n",
        "val_data_years = int(len(df_copy) * (val_years / total_years))"
      ]
    },
    {
      "cell_type": "code",
      "execution_count": 11,
      "metadata": {},
      "outputs": [],
      "source": [
        "# Chia dữ liệu thành training, validation, test theo tỉ lệ\n",
        "train_data = df_copy[df_copy['Year'].isin(range(2000, 2013))]\n",
        "val_data = df_copy[df_copy['Year'].isin(range(2011, 2017))]\n",
        "test_data = df_copy[df_copy['Year'].isin(range(2017, 2022))]"
      ]
    },
    {
      "cell_type": "markdown",
      "metadata": {},
      "source": [
        "Xây dựng mô hình"
      ]
    },
    {
      "cell_type": "markdown",
      "metadata": {},
      "source": [
        "Chia ra label và feature\n",
        "- Label: Prematurity - số ca tử vong do sinh non\n",
        "- Features: các nguyên do khác"
      ]
    },
    {
      "cell_type": "markdown",
      "metadata": {},
      "source": [
        "Lý do chọn Prematurity làm label là vì:\n",
        "\n",
        "Sự sinh non thường là một trong những nguyên nhân chính dẫn đến tử vong ở trẻ sơ sinh. Việc dự đoán số ca tử vong dựa trên yếu tố này có thể hữu ích để hiểu rõ hơn về tác động của sự sớm non đối với tỷ lệ tử vong.\n",
        "\n",
        "Dữ liệu về sự sinh non có sẵn và có tính khả thi trong việc thu thập so với các yếu tố khác. Điều này giúp mô hình học máy được huấn luyện và kiểm tra dựa trên thông tin rõ ràng và đủ đầy."
      ]
    },
    {
      "cell_type": "code",
      "execution_count": 12,
      "metadata": {},
      "outputs": [],
      "source": [
        "# Chia mỗi tập thành features và label\n",
        "X_train = train_data.drop(columns=['Prematurity']) \n",
        "y_train = train_data['Prematurity']\n",
        "\n",
        "X_val = val_data.drop(columns=['Prematurity'])\n",
        "y_val = val_data['Prematurity']\n",
        "\n",
        "X_test = test_data.drop(columns=['Prematurity'])\n",
        "y_test = test_data['Prematurity']"
      ]
    },
    {
      "cell_type": "markdown",
      "metadata": {},
      "source": [
        "Mô hình Linear Regression là một thuật toán học máy dùng để dự đoán giá trị đầu ra dựa trên các đặc trưng đầu vào. \n",
        "\n",
        "Tham số:\n",
        "\n",
        "- Intercept (chặn trục): Đây là giá trị dự đoán của biến mục tiêu khi tất cả các đặc trưng đều bằng 0.\n",
        "\n",
        "- Coefficients (hệ số): Là các trọng số được gán cho mỗi đặc trưng, biểu thị mức độ ảnh hưởng của từng đặc trưng đối với giá trị dự đoán.\n",
        "\n",
        "Cách hoạt động:\n",
        "\n",
        "- Giả định: Linear Regression giả định mối quan hệ tuyến tính giữa các đặc trưng và biến mục tiêu. Nó cố gắng tìm một đường thẳng (hoặc siêu phẳng trong không gian nhiều chiều) mà nói rằng mối quan hệ giữa đầu vào và đầu ra là tuyến tính.\n",
        "\n",
        "- Tối ưu hóa: Mục tiêu của thuật toán là tìm ra đường thẳng sao cho tổng bình phương sai số giữa dự đoán và giá trị thực tế là nhỏ nhất (phương pháp bình phương tối thiểu).\n",
        "\n",
        "Áp dụng của mô hình: Linear Regression thường được sử dụng khi mối quan hệ giữa các biến đầu vào và biến mục tiêu có thể được mô tả một cách tuyến tính. Nó thích hợp trong các bài toán dự đoán số lượng hoặc bài toán dự đoán giá trị liên tục.\n",
        "\n",
        "Áp dụng vào bài: Việc sử dụng Linear Regression để dự đoán tỉ lệ tử vong do sinh non là hợp lý"
      ]
    },
    {
      "cell_type": "code",
      "execution_count": 13,
      "metadata": {},
      "outputs": [
        {
          "data": {
            "text/html": [
              "<style>#sk-container-id-2 {color: black;background-color: white;}#sk-container-id-2 pre{padding: 0;}#sk-container-id-2 div.sk-toggleable {background-color: white;}#sk-container-id-2 label.sk-toggleable__label {cursor: pointer;display: block;width: 100%;margin-bottom: 0;padding: 0.3em;box-sizing: border-box;text-align: center;}#sk-container-id-2 label.sk-toggleable__label-arrow:before {content: \"▸\";float: left;margin-right: 0.25em;color: #696969;}#sk-container-id-2 label.sk-toggleable__label-arrow:hover:before {color: black;}#sk-container-id-2 div.sk-estimator:hover label.sk-toggleable__label-arrow:before {color: black;}#sk-container-id-2 div.sk-toggleable__content {max-height: 0;max-width: 0;overflow: hidden;text-align: left;background-color: #f0f8ff;}#sk-container-id-2 div.sk-toggleable__content pre {margin: 0.2em;color: black;border-radius: 0.25em;background-color: #f0f8ff;}#sk-container-id-2 input.sk-toggleable__control:checked~div.sk-toggleable__content {max-height: 200px;max-width: 100%;overflow: auto;}#sk-container-id-2 input.sk-toggleable__control:checked~label.sk-toggleable__label-arrow:before {content: \"▾\";}#sk-container-id-2 div.sk-estimator input.sk-toggleable__control:checked~label.sk-toggleable__label {background-color: #d4ebff;}#sk-container-id-2 div.sk-label input.sk-toggleable__control:checked~label.sk-toggleable__label {background-color: #d4ebff;}#sk-container-id-2 input.sk-hidden--visually {border: 0;clip: rect(1px 1px 1px 1px);clip: rect(1px, 1px, 1px, 1px);height: 1px;margin: -1px;overflow: hidden;padding: 0;position: absolute;width: 1px;}#sk-container-id-2 div.sk-estimator {font-family: monospace;background-color: #f0f8ff;border: 1px dotted black;border-radius: 0.25em;box-sizing: border-box;margin-bottom: 0.5em;}#sk-container-id-2 div.sk-estimator:hover {background-color: #d4ebff;}#sk-container-id-2 div.sk-parallel-item::after {content: \"\";width: 100%;border-bottom: 1px solid gray;flex-grow: 1;}#sk-container-id-2 div.sk-label:hover label.sk-toggleable__label {background-color: #d4ebff;}#sk-container-id-2 div.sk-serial::before {content: \"\";position: absolute;border-left: 1px solid gray;box-sizing: border-box;top: 0;bottom: 0;left: 50%;z-index: 0;}#sk-container-id-2 div.sk-serial {display: flex;flex-direction: column;align-items: center;background-color: white;padding-right: 0.2em;padding-left: 0.2em;position: relative;}#sk-container-id-2 div.sk-item {position: relative;z-index: 1;}#sk-container-id-2 div.sk-parallel {display: flex;align-items: stretch;justify-content: center;background-color: white;position: relative;}#sk-container-id-2 div.sk-item::before, #sk-container-id-2 div.sk-parallel-item::before {content: \"\";position: absolute;border-left: 1px solid gray;box-sizing: border-box;top: 0;bottom: 0;left: 50%;z-index: -1;}#sk-container-id-2 div.sk-parallel-item {display: flex;flex-direction: column;z-index: 1;position: relative;background-color: white;}#sk-container-id-2 div.sk-parallel-item:first-child::after {align-self: flex-end;width: 50%;}#sk-container-id-2 div.sk-parallel-item:last-child::after {align-self: flex-start;width: 50%;}#sk-container-id-2 div.sk-parallel-item:only-child::after {width: 0;}#sk-container-id-2 div.sk-dashed-wrapped {border: 1px dashed gray;margin: 0 0.4em 0.5em 0.4em;box-sizing: border-box;padding-bottom: 0.4em;background-color: white;}#sk-container-id-2 div.sk-label label {font-family: monospace;font-weight: bold;display: inline-block;line-height: 1.2em;}#sk-container-id-2 div.sk-label-container {text-align: center;}#sk-container-id-2 div.sk-container {/* jupyter's `normalize.less` sets `[hidden] { display: none; }` but bootstrap.min.css set `[hidden] { display: none !important; }` so we also need the `!important` here to be able to override the default hidden behavior on the sphinx rendered scikit-learn.org. See: https://github.com/scikit-learn/scikit-learn/issues/21755 */display: inline-block !important;position: relative;}#sk-container-id-2 div.sk-text-repr-fallback {display: none;}</style><div id=\"sk-container-id-2\" class=\"sk-top-container\"><div class=\"sk-text-repr-fallback\"><pre>LinearRegression()</pre><b>In a Jupyter environment, please rerun this cell to show the HTML representation or trust the notebook. <br />On GitHub, the HTML representation is unable to render, please try loading this page with nbviewer.org.</b></div><div class=\"sk-container\" hidden><div class=\"sk-item\"><div class=\"sk-estimator sk-toggleable\"><input class=\"sk-toggleable__control sk-hidden--visually\" id=\"sk-estimator-id-2\" type=\"checkbox\" checked><label for=\"sk-estimator-id-2\" class=\"sk-toggleable__label sk-toggleable__label-arrow\">LinearRegression</label><div class=\"sk-toggleable__content\"><pre>LinearRegression()</pre></div></div></div></div></div>"
            ],
            "text/plain": [
              "LinearRegression()"
            ]
          },
          "execution_count": 13,
          "metadata": {},
          "output_type": "execute_result"
        }
      ],
      "source": [
        "# Huấn luyện mô hình Linear Regression\n",
        "model = LinearRegression()\n",
        "model.fit(X_train, y_train)"
      ]
    },
    {
      "cell_type": "markdown",
      "metadata": {},
      "source": [
        "Kiểm tra mô hình trên tập train và validation\n",
        "\n",
        "Valid set được sử dụng để đánh giá hiệu suất của mô hình mà không dùng tới train set, một vài lý do nữa là:\n",
        "\n",
        "- Đánh giá tổng quát hóa: Tập validation giúp đánh giá khả năng tổng quát hóa của mô hình. Mô hình có thể học quá nhiều chi tiết từ dữ liệu huấn luyện, dẫn đến overfitting. Việc sử dụng valid set giúp đánh giá khả năng dự đoán của mô hình trên dữ liệu mới, không được dùng trong quá trình huấn luyện.\n",
        "\n",
        "- Điều chỉnh mô hình: Valid set cũng thường được sử dụng để điều chỉnh các siêu tham số của mô hình hoặc chọn mô hình tốt nhất từ một loạt các mô hình khác nhau. Bằng cách đánh giá hiệu suất trên valid set, bạn có thể lựa chọn mô hình tốt nhất trước khi áp dụng nó vào tập test.\n",
        "\n",
        "- Tránh data leakage: Việc sử dụng tập test ngay từ đầu để điều chỉnh mô hình có thể dẫn đến hiện tượng data leakage, khi thông tin từ tập test \"rò rỉ\" vào quá trình huấn luyện, làm mô hình không tổng quát hóa tốt cho dữ liệu mới."
      ]
    },
    {
      "cell_type": "code",
      "execution_count": 14,
      "metadata": {},
      "outputs": [
        {
          "name": "stdout",
          "output_type": "stream",
          "text": [
            "Tổng số ca tử vong dự đoán từ mô hình trên tập huấn luyện:\n",
            "4508972.747846904\n",
            "Tổng số ca tử vong dự đoán từ mô hình trên tập validation:\n",
            "6343886.571567219\n"
          ]
        }
      ],
      "source": [
        "# Dự đoán trên tập train\n",
        "r_squared_train = model.score(X_test, y_test)\n",
        "predicted_train = model.predict(X_test)\n",
        "\n",
        "total_predicted_values_train = sum(predicted_train)\n",
        "print(\"Tổng số ca tử vong dự đoán từ mô hình trên tập huấn luyện:\")\n",
        "print(total_predicted_values_train)\n",
        "\n",
        "# Đánh giá hiệu suất mô hình trên tập validation\n",
        "r_squared_val = model.score(X_val, y_val)\n",
        "predicted_val = model.predict(X_val)\n",
        "\n",
        "# In tổng số ca tử vong dự đoán từ mô hình trên tập validation\n",
        "total_predicted_values_val = sum(predicted_val)\n",
        "print(\"Tổng số ca tử vong dự đoán từ mô hình trên tập validation:\")\n",
        "print(total_predicted_values_val)"
      ]
    },
    {
      "cell_type": "markdown",
      "metadata": {},
      "source": [
        "Thường thì khi kết quả trên tập huấn luyện (training set) tốt hơn so với tập validation nhưng kết quả trên ta thì ngược lại, nguyên nhân có thể xuất phát từ việc mô hình đã học \"quá mức\" từ dữ liệu huấn luyện, bao gồm cả nhiễu. Nó không chỉ học các mẫu dữ liệu mà còn học cả nhiễu có thể là ngẫu nhiên hoặc không có ý nghĩa thực tế trong dữ liệu huấn luyện."
      ]
    },
    {
      "cell_type": "markdown",
      "metadata": {},
      "source": [
        "Mô hình Linear Regression không có các siêu tham số cần điều chỉnh như một số mô hình phức tạp khác nên có thể dùng cross-validation để xác thực siêu tham số"
      ]
    },
    {
      "cell_type": "code",
      "execution_count": 15,
      "metadata": {},
      "outputs": [
        {
          "data": {
            "text/plain": [
              "array([-2891587.00407053, -1801194.85419438, -1578787.85210022,\n",
              "       -1931575.91449427, -1450615.09975145])"
            ]
          },
          "execution_count": 15,
          "metadata": {},
          "output_type": "execute_result"
        }
      ],
      "source": [
        "# Sử dụng cross-validation để xác thực siêu tham số\n",
        "cv_scores = cross_val_score(model, X_train, y_train, cv=5, scoring='neg_mean_squared_error')\n",
        "cv_scores"
      ]
    },
    {
      "cell_type": "markdown",
      "metadata": {},
      "source": [
        "Thước đo 'neg_mean_squared_error' (độ lỗi bình phương trung bình âm) được sử dụng để đo lường hiệu suất của mô hình. Khi sử dụng thước đo này, kết quả trả về sẽ là các giá trị MSE âm. Lý do là để phù hợp với cấu trúc của hàm cross_val_score trong thư viện Scikit-learn. Bởi vì phần lớn các hàm trong Scikit-learn đánh giá hiệu suất dựa trên độ chính xác hoặc độ lỗi"
      ]
    },
    {
      "cell_type": "markdown",
      "metadata": {},
      "source": [
        "Khi sử dụng scoring='neg_mean_squared_error', điểm số được trả về sẽ là giá trị âm của MSE, có nghĩa là mô hình càng tốt nếu giá trị này càng cao. Sau khi hoàn thiện cross-validation, ta có thể đổi dấu của kết quả để lấy giá trị MSE dương thực sự. Điều này giúp cho việc so sánh và đánh giá hiệu suất dễ dàng hơn, với giá trị MSE càng nhỏ thể hiện mô hình càng tốt."
      ]
    },
    {
      "cell_type": "code",
      "execution_count": 16,
      "metadata": {},
      "outputs": [],
      "source": [
        "# Đánh giá hiệu suất mô hình\n",
        "mse_scores = -cv_scores\n",
        "mean_mse = mse_scores.mean()\n",
        "root_mean_mse = np.sqrt(mean_mse)"
      ]
    },
    {
      "cell_type": "code",
      "execution_count": 17,
      "metadata": {},
      "outputs": [
        {
          "name": "stdout",
          "output_type": "stream",
          "text": [
            "Độ lỗi bình phương trung bình: 1930752.1449221696\n",
            "Căn bậc hai độ lỗi bình phương trung bình : 1389.515075456963\n"
          ]
        }
      ],
      "source": [
        "# Báo cáo quy trình tinh chỉnh mô hình\n",
        "print(f\"Độ lỗi bình phương trung bình: {mean_mse}\")\n",
        "print(f\"Căn bậc hai độ lỗi bình phương trung bình : {root_mean_mse}\")"
      ]
    },
    {
      "cell_type": "markdown",
      "metadata": {},
      "source": [
        "Dựa vào kết quả trên thì mô hình thể hiện không tốt vì giá trị mean_mse vẫn lớn nên ta phải tinh chỉnh "
      ]
    },
    {
      "cell_type": "markdown",
      "metadata": {},
      "source": [
        "Quá trình tinh chỉnh: sử dụng GridSearchCV để tìm kiếm siêu tham số tốt nhất cho một mô hình máy học và tinh chỉnh khi dùng validation data"
      ]
    },
    {
      "cell_type": "code",
      "execution_count": 22,
      "metadata": {},
      "outputs": [],
      "source": [
        "pipeline = Pipeline([\n",
        "    ('scaler', StandardScaler()),  # Chuẩn hóa dữ liệu\n",
        "    ('regressor', LinearRegression())  # Mô hình Linear Regression\n",
        "])\n",
        "\n",
        "# Định nghĩa không gian siêu tham số cần điều chỉnh\n",
        "param_grid = {\n",
        "    'regressor__fit_intercept': [True, False],  # Ví dụ siêu tham số fit_intercept của Linear Regression\n",
        "    # Thêm các siêu tham số khác nếu có\n",
        "}\n",
        "\n",
        "# Sử dụng GridSearchCV để tìm giá trị siêu tham số tốt nhất\n",
        "grid_search = GridSearchCV(pipeline, param_grid, cv=5, scoring='neg_mean_squared_error')\n",
        "grid_search.fit(X_val, y_val)\n",
        "\n",
        "# Lấy mô hình tốt nhất sau khi tìm siêu tham số\n",
        "best_model = grid_search.best_estimator_"
      ]
    },
    {
      "cell_type": "markdown",
      "metadata": {},
      "source": [
        "Sau khi đã tinh chỉnh siêu tham số thì so sánh 2 giá trị hiệu suất mô hình được tinh chỉnh trên tập và validation"
      ]
    },
    {
      "cell_type": "code",
      "execution_count": 23,
      "metadata": {},
      "outputs": [
        {
          "name": "stdout",
          "output_type": "stream",
          "text": [
            "Mean Squared Error trên tập validation sau khi tinh chỉnh: 837306.1780946213\n",
            "Mean Squared Error trên tập huấn luyện sau khi tinh chỉnh: 10133212.529210227\n",
            "Mô hình không có dấu hiệu overfitting.\n"
          ]
        }
      ],
      "source": [
        "# Đánh giá hiệu suất của mô hình đã được tinh chỉnh trên tập validation\n",
        "predicted_val_tuned = best_model.predict(X_val)\n",
        "mse_val_tuned = mean_squared_error(y_val, predicted_val_tuned)\n",
        "print(\"Mean Squared Error trên tập validation sau khi tinh chỉnh:\", mse_val_tuned)\n",
        "\n",
        "# Đánh giá hiệu suất của mô hình trên tập huấn luyện\n",
        "predicted_train_tuned = best_model.predict(X_train)\n",
        "mse_train_tuned = mean_squared_error(y_train, predicted_train_tuned)\n",
        "print(\"Mean Squared Error trên tập huấn luyện sau khi tinh chỉnh:\", mse_train_tuned)\n",
        "\n",
        "# Kiểm tra có sự overfitting\n",
        "if mse_train_tuned < mse_val_tuned:\n",
        "    print(\"Mô hình có dấu hiệu overfitting.\")\n",
        "else:\n",
        "    print(\"Mô hình không có dấu hiệu overfitting.\")\n"
      ]
    },
    {
      "cell_type": "markdown",
      "metadata": {},
      "source": [
        "Đánh giá hiệu suất trên tập test"
      ]
    },
    {
      "cell_type": "code",
      "execution_count": 26,
      "metadata": {},
      "outputs": [
        {
          "name": "stdout",
          "output_type": "stream",
          "text": [
            "Tổng ca tử vong do sinh non dự đoán:\n",
            "4508972.747846904\n",
            "Tổng ca tử vong do sinh non thực tế:\n",
            "4582993.558100002\n"
          ]
        }
      ],
      "source": [
        "# In tổng số ca tử vong dự đoán\n",
        "r_squared_test = model.score(X_test, y_test)\n",
        "predicted_test = model.predict(X_test)\n",
        "\n",
        "total_predicted_values = 0\n",
        "total_predicted_values += sum(predicted_test)\n",
        "print(\"Tổng ca tử vong do sinh non dự đoán:\")\n",
        "print(total_predicted_values)\n",
        "\n",
        "total_values = 0\n",
        "total_values += sum(y_test)\n",
        "print(\"Tổng ca tử vong do sinh non thực tế:\")\n",
        "print(total_values)"
      ]
    },
    {
      "cell_type": "markdown",
      "metadata": {},
      "source": [
        "Sử dụng model đã huấn luyện để dự đoán tổng ca tử vong do sinh non thì kết quả tương đương với thực tế (chênh lệch rất bé)"
      ]
    },
    {
      "cell_type": "markdown",
      "metadata": {},
      "source": [
        "Vẽ biểu đồ"
      ]
    },
    {
      "cell_type": "code",
      "execution_count": 27,
      "metadata": {},
      "outputs": [
        {
          "data": {
            "image/png": "[encoded data removed]",
            "text/plain": [
              "<Figure size 800x600 with 1 Axes>"
            ]
          },
          "metadata": {},
          "output_type": "display_data"
        }
      ],
      "source": [
        "# Vẽ biểu đồ\n",
        "plt.figure(figsize=(8, 6))\n",
        "plt.scatter(y_test, predicted_test, alpha=0.5)\n",
        "plt.xlabel(\"Giá trị thực tế\")\n",
        "plt.ylabel(\"Giá trị dự đoán\")\n",
        "plt.title(\"Biểu đồ giá trị thực tế và dự đoán của việc tử vong do sinh non\")\n",
        "plt.grid(True)\n",
        "plt.plot([y_test.min(), y_test.max()], [y_test.min(), y_test.max()], 'k--', lw=2)\n",
        "plt.show()"
      ]
    },
    {
      "cell_type": "markdown",
      "metadata": {},
      "source": [
        "Biểu đồ scatter plot thể hiện mối quan hệ giữa giá trị thực tế và giá trị dự đoán. Nó cho thấy mức độ khớp giữa dữ liệu thực tế và dự đoán từ mô hình \n",
        "\n",
        "Khi các điểm trên biểu đồ scatter plot gần đường chéo (x = y), điều này cho thấy dự đoán gần với giá trị thực tế tương ứng. Điều này thể hiện một mô hình có khả năng dự đoán tốt khi các điểm dữ liệu gần với đường thẳng x = y.\n",
        "\n",
        "Đa số các điểm nằm gần đường chéo, tức là gần x = y, thì đó là một dấu hiệu tích cực cho sự chính xác của mô hình. Nghĩa là mô hình có thể dự đoán tương đối chính xác so với giá trị thực tế."
      ]
    }
  ],
  "metadata": {
    "colab": {
      "provenance": []
    },
    "kernelspec": {
      "display_name": "Python 3",
      "name": "python3"
    },
    "language_info": {
      "codemirror_mode": {
        "name": "ipython",
        "version": 3
      },
      "file_extension": ".py",
      "mimetype": "text/x-python",
      "name": "python",
      "nbconvert_exporter": "python",
      "pygments_lexer": "ipython3",
      "version": "3.11.4"
    }
  },
  "nbformat": 4,
  "nbformat_minor": 0
}
