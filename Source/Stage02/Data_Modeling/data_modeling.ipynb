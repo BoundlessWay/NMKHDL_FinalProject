{
  "cells": [
    {
      "cell_type": "markdown",
      "metadata": {
        "id": "MrTqX2qi21Qy"
      },
      "source": [
        "Libraries:"
      ]
    },
    {
      "cell_type": "code",
      "execution_count": 71,
      "metadata": {
        "id": "ZAtu6VSKOaIX"
      },
      "outputs": [],
      "source": [
        "# Thêm các thư viện\n",
        "import numpy as np\n",
        "import pandas as pd\n",
        "import seaborn as sns\n",
        "import matplotlib.pyplot as plt\n",
        "from sklearn import preprocessing, svm\n",
        "from sklearn.preprocessing import LabelEncoder\n",
        "from sklearn.model_selection import train_test_split, cross_val_score\n",
        "from sklearn.linear_model import LinearRegression\n",
        "from sklearn.metrics import accuracy_score, precision_score, recall_score, mean_squared_error"
      ]
    },
    {
      "cell_type": "code",
      "execution_count": 2,
      "metadata": {
        "colab": {
          "base_uri": "https://localhost:8080/",
          "height": 510
        },
        "id": "lplrgQ9kgutL",
        "outputId": "4d4bd4ae-0024-481d-b430-f7bf09b9152d"
      },
      "outputs": [
        {
          "data": {
            "text/html": [
              "<div>\n",
              "<style scoped>\n",
              "    .dataframe tbody tr th:only-of-type {\n",
              "        vertical-align: middle;\n",
              "    }\n",
              "\n",
              "    .dataframe tbody tr th {\n",
              "        vertical-align: top;\n",
              "    }\n",
              "\n",
              "    .dataframe thead th {\n",
              "        text-align: right;\n",
              "    }\n",
              "</style>\n",
              "<table border=\"1\" class=\"dataframe\">\n",
              "  <thead>\n",
              "    <tr style=\"text-align: right;\">\n",
              "      <th></th>\n",
              "      <th>Prematurity</th>\n",
              "      <th>Birth asphyxia and birth trauma</th>\n",
              "      <th>Sepsis and other infectious conditions of the newborn</th>\n",
              "      <th>Congenital anomalies</th>\n",
              "      <th>Injuries</th>\n",
              "      <th>Tuberculosis</th>\n",
              "      <th>Other Group 1 and Other noncommunicable (neonatal and under-5 only)</th>\n",
              "      <th>HIV/AIDS</th>\n",
              "      <th>Diarrhoeal diseases</th>\n",
              "      <th>Tetanus</th>\n",
              "      <th>Measles</th>\n",
              "      <th>Meningitis/encephalitis</th>\n",
              "      <th>Malaria</th>\n",
              "      <th>Acute lower respiratory infections</th>\n",
              "      <th>CountryName</th>\n",
              "      <th>Year</th>\n",
              "    </tr>\n",
              "  </thead>\n",
              "  <tbody>\n",
              "    <tr>\n",
              "      <th>0</th>\n",
              "      <td>19333.41926</td>\n",
              "      <td>11691.37210</td>\n",
              "      <td>4489.50404</td>\n",
              "      <td>1534.08344</td>\n",
              "      <td>371.28902</td>\n",
              "      <td>0.0</td>\n",
              "      <td>10579.92644</td>\n",
              "      <td>0.22891</td>\n",
              "      <td>1973.08786</td>\n",
              "      <td>2331.69796</td>\n",
              "      <td>0.0</td>\n",
              "      <td>1395.33839</td>\n",
              "      <td>0.0</td>\n",
              "      <td>6908.05259</td>\n",
              "      <td>Afghanistan</td>\n",
              "      <td>2000</td>\n",
              "    </tr>\n",
              "    <tr>\n",
              "      <th>1</th>\n",
              "      <td>14761.72219</td>\n",
              "      <td>10042.87869</td>\n",
              "      <td>2977.92908</td>\n",
              "      <td>1405.50824</td>\n",
              "      <td>130.32201</td>\n",
              "      <td>0.0</td>\n",
              "      <td>3849.14708</td>\n",
              "      <td>30.31433</td>\n",
              "      <td>724.01316</td>\n",
              "      <td>768.57928</td>\n",
              "      <td>0.0</td>\n",
              "      <td>357.27433</td>\n",
              "      <td>0.0</td>\n",
              "      <td>4267.31161</td>\n",
              "      <td>Angola</td>\n",
              "      <td>2000</td>\n",
              "    </tr>\n",
              "    <tr>\n",
              "      <th>2</th>\n",
              "      <td>351.16760</td>\n",
              "      <td>110.05251</td>\n",
              "      <td>17.54192</td>\n",
              "      <td>106.22332</td>\n",
              "      <td>4.31283</td>\n",
              "      <td>0.0</td>\n",
              "      <td>30.48989</td>\n",
              "      <td>0.00347</td>\n",
              "      <td>0.77210</td>\n",
              "      <td>0.09764</td>\n",
              "      <td>0.0</td>\n",
              "      <td>10.36631</td>\n",
              "      <td>0.0</td>\n",
              "      <td>36.97242</td>\n",
              "      <td>Albania</td>\n",
              "      <td>2000</td>\n",
              "    </tr>\n",
              "    <tr>\n",
              "      <th>3</th>\n",
              "      <td>3.00000</td>\n",
              "      <td>0.00000</td>\n",
              "      <td>0.00000</td>\n",
              "      <td>0.00000</td>\n",
              "      <td>0.00000</td>\n",
              "      <td>0.0</td>\n",
              "      <td>0.00000</td>\n",
              "      <td>0.00000</td>\n",
              "      <td>0.00000</td>\n",
              "      <td>0.00000</td>\n",
              "      <td>0.0</td>\n",
              "      <td>0.00000</td>\n",
              "      <td>0.0</td>\n",
              "      <td>0.00000</td>\n",
              "      <td>Andorra</td>\n",
              "      <td>2000</td>\n",
              "    </tr>\n",
              "    <tr>\n",
              "      <th>4</th>\n",
              "      <td>137.90854</td>\n",
              "      <td>26.85080</td>\n",
              "      <td>2.86905</td>\n",
              "      <td>75.66284</td>\n",
              "      <td>1.78464</td>\n",
              "      <td>0.0</td>\n",
              "      <td>66.57905</td>\n",
              "      <td>0.10435</td>\n",
              "      <td>0.00000</td>\n",
              "      <td>0.00000</td>\n",
              "      <td>0.0</td>\n",
              "      <td>0.15043</td>\n",
              "      <td>0.0</td>\n",
              "      <td>0.09029</td>\n",
              "      <td>United Arab Emirates</td>\n",
              "      <td>2000</td>\n",
              "    </tr>\n",
              "    <tr>\n",
              "      <th>...</th>\n",
              "      <td>...</td>\n",
              "      <td>...</td>\n",
              "      <td>...</td>\n",
              "      <td>...</td>\n",
              "      <td>...</td>\n",
              "      <td>...</td>\n",
              "      <td>...</td>\n",
              "      <td>...</td>\n",
              "      <td>...</td>\n",
              "      <td>...</td>\n",
              "      <td>...</td>\n",
              "      <td>...</td>\n",
              "      <td>...</td>\n",
              "      <td>...</td>\n",
              "      <td>...</td>\n",
              "      <td>...</td>\n",
              "    </tr>\n",
              "    <tr>\n",
              "      <th>4263</th>\n",
              "      <td>17.45855</td>\n",
              "      <td>5.56010</td>\n",
              "      <td>2.93639</td>\n",
              "      <td>7.28102</td>\n",
              "      <td>0.25978</td>\n",
              "      <td>0.0</td>\n",
              "      <td>4.18806</td>\n",
              "      <td>0.00000</td>\n",
              "      <td>0.00000</td>\n",
              "      <td>0.00000</td>\n",
              "      <td>0.0</td>\n",
              "      <td>0.15554</td>\n",
              "      <td>0.0</td>\n",
              "      <td>1.16055</td>\n",
              "      <td>Samoa</td>\n",
              "      <td>2021</td>\n",
              "    </tr>\n",
              "    <tr>\n",
              "      <th>4264</th>\n",
              "      <td>11286.37393</td>\n",
              "      <td>6796.63328</td>\n",
              "      <td>1742.58956</td>\n",
              "      <td>2227.89226</td>\n",
              "      <td>229.08594</td>\n",
              "      <td>0.0</td>\n",
              "      <td>3051.97336</td>\n",
              "      <td>0.90444</td>\n",
              "      <td>521.35998</td>\n",
              "      <td>129.94279</td>\n",
              "      <td>0.0</td>\n",
              "      <td>44.07145</td>\n",
              "      <td>0.0</td>\n",
              "      <td>2523.17301</td>\n",
              "      <td>Yemen</td>\n",
              "      <td>2021</td>\n",
              "    </tr>\n",
              "    <tr>\n",
              "      <th>4265</th>\n",
              "      <td>4634.07215</td>\n",
              "      <td>2595.54661</td>\n",
              "      <td>1828.98610</td>\n",
              "      <td>1315.87236</td>\n",
              "      <td>166.21530</td>\n",
              "      <td>0.0</td>\n",
              "      <td>1708.85383</td>\n",
              "      <td>36.14888</td>\n",
              "      <td>0.00000</td>\n",
              "      <td>0.00000</td>\n",
              "      <td>0.0</td>\n",
              "      <td>16.01934</td>\n",
              "      <td>0.0</td>\n",
              "      <td>677.28544</td>\n",
              "      <td>South Africa</td>\n",
              "      <td>2021</td>\n",
              "    </tr>\n",
              "    <tr>\n",
              "      <th>4266</th>\n",
              "      <td>6920.62510</td>\n",
              "      <td>4054.12780</td>\n",
              "      <td>912.70245</td>\n",
              "      <td>1274.53105</td>\n",
              "      <td>35.09944</td>\n",
              "      <td>0.0</td>\n",
              "      <td>1776.66284</td>\n",
              "      <td>22.93804</td>\n",
              "      <td>134.08604</td>\n",
              "      <td>23.52546</td>\n",
              "      <td>0.0</td>\n",
              "      <td>108.91078</td>\n",
              "      <td>0.0</td>\n",
              "      <td>1228.79101</td>\n",
              "      <td>Zambia</td>\n",
              "      <td>2021</td>\n",
              "    </tr>\n",
              "    <tr>\n",
              "      <th>4267</th>\n",
              "      <td>5268.77405</td>\n",
              "      <td>2940.32032</td>\n",
              "      <td>657.14015</td>\n",
              "      <td>953.81393</td>\n",
              "      <td>44.91293</td>\n",
              "      <td>0.0</td>\n",
              "      <td>1314.32117</td>\n",
              "      <td>25.53906</td>\n",
              "      <td>87.16720</td>\n",
              "      <td>15.59287</td>\n",
              "      <td>0.0</td>\n",
              "      <td>37.95557</td>\n",
              "      <td>0.0</td>\n",
              "      <td>865.46276</td>\n",
              "      <td>Zimbabwe</td>\n",
              "      <td>2021</td>\n",
              "    </tr>\n",
              "  </tbody>\n",
              "</table>\n",
              "<p>4268 rows × 16 columns</p>\n",
              "</div>"
            ],
            "text/plain": [
              "      Prematurity  Birth asphyxia and birth trauma   \n",
              "0     19333.41926                      11691.37210  \\\n",
              "1     14761.72219                      10042.87869   \n",
              "2       351.16760                        110.05251   \n",
              "3         3.00000                          0.00000   \n",
              "4       137.90854                         26.85080   \n",
              "...           ...                              ...   \n",
              "4263     17.45855                          5.56010   \n",
              "4264  11286.37393                       6796.63328   \n",
              "4265   4634.07215                       2595.54661   \n",
              "4266   6920.62510                       4054.12780   \n",
              "4267   5268.77405                       2940.32032   \n",
              "\n",
              "      Sepsis and other infectious conditions of the newborn   \n",
              "0                                            4489.50404      \\\n",
              "1                                            2977.92908       \n",
              "2                                              17.54192       \n",
              "3                                               0.00000       \n",
              "4                                               2.86905       \n",
              "...                                                 ...       \n",
              "4263                                            2.93639       \n",
              "4264                                         1742.58956       \n",
              "4265                                         1828.98610       \n",
              "4266                                          912.70245       \n",
              "4267                                          657.14015       \n",
              "\n",
              "      Congenital anomalies   Injuries  Tuberculosis   \n",
              "0               1534.08344  371.28902           0.0  \\\n",
              "1               1405.50824  130.32201           0.0   \n",
              "2                106.22332    4.31283           0.0   \n",
              "3                  0.00000    0.00000           0.0   \n",
              "4                 75.66284    1.78464           0.0   \n",
              "...                    ...        ...           ...   \n",
              "4263               7.28102    0.25978           0.0   \n",
              "4264            2227.89226  229.08594           0.0   \n",
              "4265            1315.87236  166.21530           0.0   \n",
              "4266            1274.53105   35.09944           0.0   \n",
              "4267             953.81393   44.91293           0.0   \n",
              "\n",
              "      Other Group 1 and Other noncommunicable (neonatal and under-5 only)   \n",
              "0                                           10579.92644                    \\\n",
              "1                                            3849.14708                     \n",
              "2                                              30.48989                     \n",
              "3                                               0.00000                     \n",
              "4                                              66.57905                     \n",
              "...                                                 ...                     \n",
              "4263                                            4.18806                     \n",
              "4264                                         3051.97336                     \n",
              "4265                                         1708.85383                     \n",
              "4266                                         1776.66284                     \n",
              "4267                                         1314.32117                     \n",
              "\n",
              "      HIV/AIDS  Diarrhoeal diseases     Tetanus  Measles   \n",
              "0      0.22891           1973.08786  2331.69796      0.0  \\\n",
              "1     30.31433            724.01316   768.57928      0.0   \n",
              "2      0.00347              0.77210     0.09764      0.0   \n",
              "3      0.00000              0.00000     0.00000      0.0   \n",
              "4      0.10435              0.00000     0.00000      0.0   \n",
              "...        ...                  ...         ...      ...   \n",
              "4263   0.00000              0.00000     0.00000      0.0   \n",
              "4264   0.90444            521.35998   129.94279      0.0   \n",
              "4265  36.14888              0.00000     0.00000      0.0   \n",
              "4266  22.93804            134.08604    23.52546      0.0   \n",
              "4267  25.53906             87.16720    15.59287      0.0   \n",
              "\n",
              "      Meningitis/encephalitis  Malaria  Acute lower respiratory infections   \n",
              "0                  1395.33839      0.0                          6908.05259  \\\n",
              "1                   357.27433      0.0                          4267.31161   \n",
              "2                    10.36631      0.0                            36.97242   \n",
              "3                     0.00000      0.0                             0.00000   \n",
              "4                     0.15043      0.0                             0.09029   \n",
              "...                       ...      ...                                 ...   \n",
              "4263                  0.15554      0.0                             1.16055   \n",
              "4264                 44.07145      0.0                          2523.17301   \n",
              "4265                 16.01934      0.0                           677.28544   \n",
              "4266                108.91078      0.0                          1228.79101   \n",
              "4267                 37.95557      0.0                           865.46276   \n",
              "\n",
              "               CountryName  Year  \n",
              "0              Afghanistan  2000  \n",
              "1                   Angola  2000  \n",
              "2                  Albania  2000  \n",
              "3                  Andorra  2000  \n",
              "4     United Arab Emirates  2000  \n",
              "...                    ...   ...  \n",
              "4263                 Samoa  2021  \n",
              "4264                 Yemen  2021  \n",
              "4265          South Africa  2021  \n",
              "4266                Zambia  2021  \n",
              "4267              Zimbabwe  2021  \n",
              "\n",
              "[4268 rows x 16 columns]"
            ]
          },
          "execution_count": 2,
          "metadata": {},
          "output_type": "execute_result"
        }
      ],
      "source": [
        "# Lấy dữ liệu từ Data\n",
        "url = \"../../../Data/number_of_deaths_processed_data.csv\"\n",
        "\n",
        "# Đọc file \n",
        "deaths = pd.read_csv(url)\n",
        "deaths"
      ]
    },
    {
      "cell_type": "markdown",
      "metadata": {},
      "source": [
        "***PREDICT TỔNG SỐ CA TỬ VONG TOÀN CẦU***"
      ]
    },
    {
      "cell_type": "markdown",
      "metadata": {
        "id": "JyhegpGzSLLu"
      },
      "source": [
        "Chia ra label và feature\n",
        "- Label: Injuries - số ca tử vong do chấn thương\n",
        "- Features: các nguyên do khác"
      ]
    },
    {
      "cell_type": "code",
      "execution_count": 3,
      "metadata": {
        "id": "joG3fsfdSkVv"
      },
      "outputs": [],
      "source": [
        "# X là DataFrame chứa các features sau khi loại bỏ cột Injuries\n",
        "X = deaths.drop(columns = 'Injuries')\n",
        "\n",
        "# Y chứa label Injuries\n",
        "Y = deaths['Injuries']\n",
        "\n",
        "# Cột CountryName thường không thể dùng trực tiếp trong mô hình máy học do giá trị chuỗi \n",
        "# nên được mã hóa sang dạng số sử dụng LabelEncoder từ thư viện sklearn\n",
        "LE = LabelEncoder()\n",
        "X['CountryName'] = LE.fit_transform(X['CountryName'])"
      ]
    },
    {
      "cell_type": "markdown",
      "metadata": {
        "id": "cLWkrkgQUoH-"
      },
      "source": [
        "Tạo train, test set:"
      ]
    },
    {
      "cell_type": "code",
      "execution_count": 4,
      "metadata": {
        "id": "io681ilzUuUh"
      },
      "outputs": [],
      "source": [
        "X_train, X_test, Y_train, Y_test = train_test_split(X, Y, test_size = .3, random_state = 42)"
      ]
    },
    {
      "cell_type": "markdown",
      "metadata": {
        "id": "PnROE44rVXYr"
      },
      "source": [
        "Khởi tạo model"
      ]
    },
    {
      "cell_type": "code",
      "execution_count": 5,
      "metadata": {
        "colab": {
          "base_uri": "https://localhost:8080/",
          "height": 75
        },
        "id": "9zY_LP-MVf_c",
        "outputId": "fd3a34f3-0824-4a6b-9652-31474dc51e1c"
      },
      "outputs": [
        {
          "data": {
            "text/html": [
              "<style>#sk-container-id-1 {color: black;background-color: white;}#sk-container-id-1 pre{padding: 0;}#sk-container-id-1 div.sk-toggleable {background-color: white;}#sk-container-id-1 label.sk-toggleable__label {cursor: pointer;display: block;width: 100%;margin-bottom: 0;padding: 0.3em;box-sizing: border-box;text-align: center;}#sk-container-id-1 label.sk-toggleable__label-arrow:before {content: \"▸\";float: left;margin-right: 0.25em;color: #696969;}#sk-container-id-1 label.sk-toggleable__label-arrow:hover:before {color: black;}#sk-container-id-1 div.sk-estimator:hover label.sk-toggleable__label-arrow:before {color: black;}#sk-container-id-1 div.sk-toggleable__content {max-height: 0;max-width: 0;overflow: hidden;text-align: left;background-color: #f0f8ff;}#sk-container-id-1 div.sk-toggleable__content pre {margin: 0.2em;color: black;border-radius: 0.25em;background-color: #f0f8ff;}#sk-container-id-1 input.sk-toggleable__control:checked~div.sk-toggleable__content {max-height: 200px;max-width: 100%;overflow: auto;}#sk-container-id-1 input.sk-toggleable__control:checked~label.sk-toggleable__label-arrow:before {content: \"▾\";}#sk-container-id-1 div.sk-estimator input.sk-toggleable__control:checked~label.sk-toggleable__label {background-color: #d4ebff;}#sk-container-id-1 div.sk-label input.sk-toggleable__control:checked~label.sk-toggleable__label {background-color: #d4ebff;}#sk-container-id-1 input.sk-hidden--visually {border: 0;clip: rect(1px 1px 1px 1px);clip: rect(1px, 1px, 1px, 1px);height: 1px;margin: -1px;overflow: hidden;padding: 0;position: absolute;width: 1px;}#sk-container-id-1 div.sk-estimator {font-family: monospace;background-color: #f0f8ff;border: 1px dotted black;border-radius: 0.25em;box-sizing: border-box;margin-bottom: 0.5em;}#sk-container-id-1 div.sk-estimator:hover {background-color: #d4ebff;}#sk-container-id-1 div.sk-parallel-item::after {content: \"\";width: 100%;border-bottom: 1px solid gray;flex-grow: 1;}#sk-container-id-1 div.sk-label:hover label.sk-toggleable__label {background-color: #d4ebff;}#sk-container-id-1 div.sk-serial::before {content: \"\";position: absolute;border-left: 1px solid gray;box-sizing: border-box;top: 0;bottom: 0;left: 50%;z-index: 0;}#sk-container-id-1 div.sk-serial {display: flex;flex-direction: column;align-items: center;background-color: white;padding-right: 0.2em;padding-left: 0.2em;position: relative;}#sk-container-id-1 div.sk-item {position: relative;z-index: 1;}#sk-container-id-1 div.sk-parallel {display: flex;align-items: stretch;justify-content: center;background-color: white;position: relative;}#sk-container-id-1 div.sk-item::before, #sk-container-id-1 div.sk-parallel-item::before {content: \"\";position: absolute;border-left: 1px solid gray;box-sizing: border-box;top: 0;bottom: 0;left: 50%;z-index: -1;}#sk-container-id-1 div.sk-parallel-item {display: flex;flex-direction: column;z-index: 1;position: relative;background-color: white;}#sk-container-id-1 div.sk-parallel-item:first-child::after {align-self: flex-end;width: 50%;}#sk-container-id-1 div.sk-parallel-item:last-child::after {align-self: flex-start;width: 50%;}#sk-container-id-1 div.sk-parallel-item:only-child::after {width: 0;}#sk-container-id-1 div.sk-dashed-wrapped {border: 1px dashed gray;margin: 0 0.4em 0.5em 0.4em;box-sizing: border-box;padding-bottom: 0.4em;background-color: white;}#sk-container-id-1 div.sk-label label {font-family: monospace;font-weight: bold;display: inline-block;line-height: 1.2em;}#sk-container-id-1 div.sk-label-container {text-align: center;}#sk-container-id-1 div.sk-container {/* jupyter's `normalize.less` sets `[hidden] { display: none; }` but bootstrap.min.css set `[hidden] { display: none !important; }` so we also need the `!important` here to be able to override the default hidden behavior on the sphinx rendered scikit-learn.org. See: https://github.com/scikit-learn/scikit-learn/issues/21755 */display: inline-block !important;position: relative;}#sk-container-id-1 div.sk-text-repr-fallback {display: none;}</style><div id=\"sk-container-id-1\" class=\"sk-top-container\"><div class=\"sk-text-repr-fallback\"><pre>LinearRegression()</pre><b>In a Jupyter environment, please rerun this cell to show the HTML representation or trust the notebook. <br />On GitHub, the HTML representation is unable to render, please try loading this page with nbviewer.org.</b></div><div class=\"sk-container\" hidden><div class=\"sk-item\"><div class=\"sk-estimator sk-toggleable\"><input class=\"sk-toggleable__control sk-hidden--visually\" id=\"sk-estimator-id-1\" type=\"checkbox\" checked><label for=\"sk-estimator-id-1\" class=\"sk-toggleable__label sk-toggleable__label-arrow\">LinearRegression</label><div class=\"sk-toggleable__content\"><pre>LinearRegression()</pre></div></div></div></div></div>"
            ],
            "text/plain": [
              "LinearRegression()"
            ]
          },
          "execution_count": 5,
          "metadata": {},
          "output_type": "execute_result"
        }
      ],
      "source": [
        "# Xác định mô hình hồi quy tuyến tính \n",
        "LR = LinearRegression()\n",
        "\n",
        "# Huấn luyện mô hình với dữ liệu huấn luyện đã chia\n",
        "LR.fit(X_train, Y_train)"
      ]
    },
    {
      "cell_type": "markdown",
      "metadata": {
        "id": "ovk-nIvkWEer"
      },
      "source": [
        "Dự đoán khi dùng model"
      ]
    },
    {
      "cell_type": "code",
      "execution_count": 6,
      "metadata": {
        "id": "Oe-slLMNWJYZ"
      },
      "outputs": [],
      "source": [
        "# Dự đoán số ca tử vong toàn cầu\n",
        "total_deaths_pred = LR.predict(X_test)"
      ]
    },
    {
      "cell_type": "code",
      "execution_count": 70,
      "metadata": {
        "colab": {
          "base_uri": "https://localhost:8080/",
          "height": 449
        },
        "id": "3Y4OQC61b446",
        "outputId": "60c39e8a-3ac6-4877-d6d1-fc896dcb085d"
      },
      "outputs": [
        {
          "data": {
            "image/png": "[encoded data removed]",
            "text/plain": [
              "<Figure size 640x480 with 1 Axes>"
            ]
          },
          "metadata": {},
          "output_type": "display_data"
        }
      ],
      "source": [
        "# Biểu đồ của số ca tử vong toàn cầu\n",
        "plt.scatter(Y_test, total_deaths_pred)\n",
        "plt.xlabel(\"Giá trị thực tế\")\n",
        "plt.ylabel(\"Giá trị dự đoán\")\n",
        "plt.grid(True)\n",
        "plt.show()"
      ]
    },
    {
      "cell_type": "markdown",
      "metadata": {},
      "source": [
        "Đánh giá:"
      ]
    },
    {
      "cell_type": "code",
      "execution_count": 8,
      "metadata": {},
      "outputs": [
        {
          "data": {
            "text/plain": [
              "61785.42950305886"
            ]
          },
          "execution_count": 8,
          "metadata": {},
          "output_type": "execute_result"
        }
      ],
      "source": [
        "# @title\n",
        "MSE = mean_squared_error(Y_test, total_deaths_pred)\n",
        "MSE\n"
      ]
    },
    {
      "cell_type": "markdown",
      "metadata": {},
      "source": [
        "***DỰ ĐOÁN SỐ CA TỬ VONG CHO TỪNG NGUYÊN NHÂN TRONG NHÓM CÁC NGUYÊN NHÂN CHO HỆ SỐ TƯƠNG QUAN CAO***"
      ]
    },
    {
      "cell_type": "code",
      "execution_count": 65,
      "metadata": {},
      "outputs": [],
      "source": [
        "cleaned_df = pd.read_csv(\"../../../Data/number_of_deaths_processed_data.csv\")\n",
        "df_copy = cleaned_df.copy()\n",
        "df_copy = df_copy.drop(['Year', 'CountryName'], axis='columns')"
      ]
    },
    {
      "cell_type": "code",
      "execution_count": 37,
      "metadata": {},
      "outputs": [],
      "source": [
        "# Tính ma trận tương quan\n",
        "correlation_matrix = df_copy.corr()"
      ]
    },
    {
      "cell_type": "markdown",
      "metadata": {},
      "source": [
        "Tìm các cặp tương quan"
      ]
    },
    {
      "cell_type": "code",
      "execution_count": 41,
      "metadata": {},
      "outputs": [
        {
          "name": "stdout",
          "output_type": "stream",
          "text": [
            "{'Prematurity': ['Birth asphyxia and birth trauma', 'Sepsis and other infectious conditions of the newborn', 'Congenital anomalies', 'Other Group 1 and Other noncommunicable (neonatal and under-5 only)', 'Diarrhoeal diseases', 'Tetanus', 'Meningitis/encephalitis', 'Acute lower respiratory infections'], 'Birth asphyxia and birth trauma': ['Prematurity', 'Sepsis and other infectious conditions of the newborn', 'Congenital anomalies', 'Other Group 1 and Other noncommunicable (neonatal and under-5 only)', 'Diarrhoeal diseases', 'Tetanus', 'Meningitis/encephalitis', 'Acute lower respiratory infections'], 'Sepsis and other infectious conditions of the newborn': ['Prematurity', 'Birth asphyxia and birth trauma', 'Congenital anomalies', 'Other Group 1 and Other noncommunicable (neonatal and under-5 only)', 'Diarrhoeal diseases', 'Tetanus', 'Meningitis/encephalitis', 'Acute lower respiratory infections'], 'Congenital anomalies': ['Prematurity', 'Birth asphyxia and birth trauma', 'Sepsis and other infectious conditions of the newborn', 'Other Group 1 and Other noncommunicable (neonatal and under-5 only)', 'Diarrhoeal diseases', 'Tetanus', 'Meningitis/encephalitis', 'Acute lower respiratory infections'], 'Other Group 1 and Other noncommunicable (neonatal and under-5 only)': ['Prematurity', 'Birth asphyxia and birth trauma', 'Sepsis and other infectious conditions of the newborn', 'Congenital anomalies', 'Diarrhoeal diseases', 'Tetanus', 'Meningitis/encephalitis', 'Acute lower respiratory infections'], 'Diarrhoeal diseases': ['Prematurity', 'Birth asphyxia and birth trauma', 'Sepsis and other infectious conditions of the newborn', 'Congenital anomalies', 'Other Group 1 and Other noncommunicable (neonatal and under-5 only)', 'Tetanus', 'Meningitis/encephalitis', 'Acute lower respiratory infections'], 'Tetanus': ['Prematurity', 'Birth asphyxia and birth trauma', 'Sepsis and other infectious conditions of the newborn', 'Congenital anomalies', 'Other Group 1 and Other noncommunicable (neonatal and under-5 only)', 'Diarrhoeal diseases', 'Meningitis/encephalitis', 'Acute lower respiratory infections'], 'Meningitis/encephalitis': ['Prematurity', 'Birth asphyxia and birth trauma', 'Sepsis and other infectious conditions of the newborn', 'Congenital anomalies', 'Other Group 1 and Other noncommunicable (neonatal and under-5 only)', 'Diarrhoeal diseases', 'Tetanus', 'Acute lower respiratory infections'], 'Acute lower respiratory infections': ['Prematurity', 'Birth asphyxia and birth trauma', 'Sepsis and other infectious conditions of the newborn', 'Congenital anomalies', 'Other Group 1 and Other noncommunicable (neonatal and under-5 only)', 'Diarrhoeal diseases', 'Tetanus', 'Meningitis/encephalitis']}\n"
          ]
        }
      ],
      "source": [
        "# Thiết đặt ngưỡng tương quan\n",
        "threshold = 0.7\n",
        "\n",
        "# Liệt kê các cặp có tỷ lệ tương quan vượt ngưỡng\n",
        "high_correlation = (correlation_matrix.abs() > threshold) & (correlation_matrix != 1)\n",
        "#print(high_correlation)\n",
        "couple = {}\n",
        "\n",
        "for col in high_correlation:\n",
        "    correlated_cols = correlation_matrix.index[high_correlation[col]].tolist()\n",
        "    if len(correlated_cols) > 0:\n",
        "        couple[col] = correlated_cols\n",
        "        \n",
        "print(couple)"
      ]
    },
    {
      "cell_type": "markdown",
      "metadata": {},
      "source": [
        "Xây dựng mô hình"
      ]
    },
    {
      "cell_type": "code",
      "execution_count": 79,
      "metadata": {},
      "outputs": [
        {
          "name": "stdout",
          "output_type": "stream",
          "text": [
            "Độ lỗi bình phương trung bình: 2649748.2946545742\n",
            "Căn bậc hai độ lỗi bình phương trung bình : 1627.8047470917925\n",
            "Độ lỗi bình phương trung bình: 1129867.2852947796\n",
            "Căn bậc hai độ lỗi bình phương trung bình : 1062.9521556941213\n",
            "Độ lỗi bình phương trung bình: 693913.0775933008\n",
            "Căn bậc hai độ lỗi bình phương trung bình : 833.0144522115453\n",
            "Độ lỗi bình phương trung bình: 860893.210122503\n",
            "Căn bậc hai độ lỗi bình phương trung bình : 927.8433111913363\n",
            "Độ lỗi bình phương trung bình: 617552.3802870552\n",
            "Căn bậc hai độ lỗi bình phương trung bình : 785.8450103468591\n",
            "Độ lỗi bình phương trung bình: 13256.092582956693\n",
            "Căn bậc hai độ lỗi bình phương trung bình : 115.13510577993443\n",
            "Độ lỗi bình phương trung bình: 27870.65735793847\n",
            "Căn bậc hai độ lỗi bình phương trung bình : 166.94507287709473\n",
            "Độ lỗi bình phương trung bình: 17588.39046479949\n",
            "Căn bậc hai độ lỗi bình phương trung bình : 132.6212293141618\n",
            "Độ lỗi bình phương trung bình: 633953.6946850095\n",
            "Căn bậc hai độ lỗi bình phương trung bình : 796.2120915214799\n"
          ]
        }
      ],
      "source": [
        "total_predicted_values = 0\n",
        "for target_col, feature_cols in couple.items():\n",
        "    # Tạo DataFrame mới chỉ chứa các cột của cặp đã chọn\n",
        "    selected_df = cleaned_df[[target_col] + feature_cols]\n",
        "\n",
        "    # Loại bỏ các dòng có giá trị null (nếu có)\n",
        "    selected_df = selected_df.dropna()\n",
        "\n",
        "    # Chia dữ liệu thành features (X) và target (y)\n",
        "    X_couple = selected_df[feature_cols]\n",
        "    y_couple = selected_df[target_col]\n",
        "\n",
        "    # Chia dữ liệu thành train và test set\n",
        "    X_couple_train, X_couple_test, y_couple_train, y_couple_test = train_test_split(X_couple, y_couple, test_size=0.2, random_state=42)\n",
        "\n",
        "    # Khởi tạo và huấn luyện mô hình Linear Regression\n",
        "    model = LinearRegression()\n",
        "    model.fit(X_couple_train, y_couple_train)\n",
        "    \n",
        "    # Dự đoán số ca tử vong\n",
        "    predicted_values = model.predict(X_couple_test)\n",
        "    \n",
        "    # Sử dụng cross-validation để xác thực siêu tham số\n",
        "    scores = cross_val_score(model, X_couple_train, y_couple_train, cv=5, scoring='neg_mean_squared_error')\n",
        "    \n",
        "    # Đánh giá hiệu suất mô hình\n",
        "    mean_mse = -scores.mean()  # Mean Squared Error\n",
        "    root_mean_mse = np.sqrt(mean_mse)  # Root Mean Squared Error\n",
        "\n",
        "    # Báo cáo quy trình tinh chỉnh mô hình\n",
        "    print(f\"Độ lỗi bình phương trung bình: {mean_mse}\")\n",
        "    print(f\"Căn bậc hai độ lỗi bình phương trung bình : {root_mean_mse}\")\n",
        "    \n",
        "    # Tính tổng dự đoán từ tất cả các cặp\n",
        "    total_predicted_values += sum(predicted_values)"
      ]
    },
    {
      "cell_type": "code",
      "execution_count": 56,
      "metadata": {},
      "outputs": [
        {
          "name": "stdout",
          "output_type": "stream",
          "text": [
            "Tổng ca tử vong:\n",
            "8814121.05842247\n"
          ]
        }
      ],
      "source": [
        "# In tổng số ca tử vong dự đoán\n",
        "print(\"Tổng ca tử vong:\")\n",
        "print(total_predicted_values)"
      ]
    },
    {
      "cell_type": "markdown",
      "metadata": {},
      "source": [
        "Vẽ biểu đồ"
      ]
    },
    {
      "cell_type": "code",
      "execution_count": 63,
      "metadata": {},
      "outputs": [
        {
          "data": {
            "image/png": "[encoded data removed]",
            "text/plain": [
              "<Figure size 800x600 with 1 Axes>"
            ]
          },
          "metadata": {},
          "output_type": "display_data"
        }
      ],
      "source": [
        "# Vẽ biểu đồ\n",
        "plt.figure(figsize=(8, 6))\n",
        "plt.scatter(y_couple_test, predicted_values, alpha=0.5)\n",
        "plt.xlabel(\"Giá trị thực tế\")\n",
        "plt.ylabel(\"Giá trị dự đoán\")\n",
        "plt.grid(True)\n",
        "plt.show()"
      ]
    }
  ],
  "metadata": {
    "colab": {
      "provenance": []
    },
    "kernelspec": {
      "display_name": "Python 3",
      "name": "python3"
    },
    "language_info": {
      "codemirror_mode": {
        "name": "ipython",
        "version": 3
      },
      "file_extension": ".py",
      "mimetype": "text/x-python",
      "name": "python",
      "nbconvert_exporter": "python",
      "pygments_lexer": "ipython3",
      "version": "3.11.4"
    }
  },
  "nbformat": 4,
  "nbformat_minor": 0
}
